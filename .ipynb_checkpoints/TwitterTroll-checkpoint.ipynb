{
 "cells": [
  {
   "cell_type": "markdown",
   "metadata": {
    "collapsed": true
   },
   "source": [
    "# Final Project for COGS118A, this is meant to find and identify russian 'troll' tweets."
   ]
  },
  {
   "cell_type": "markdown",
   "metadata": {},
   "source": [
    "Group members :\n",
    "- Gael Van der Lee\n",
    "- Alex Labranche"
   ]
  },
  {
   "cell_type": "code",
   "execution_count": 1,
   "metadata": {
    "collapsed": true
   },
   "outputs": [],
   "source": [
    "import sklearn as sk\n",
    "from sklearn import svm\n",
    "import pandas as pd\n",
    "import matplotlib.pyplot as plt\n",
    "import seaborn as sns\n",
    "import numpy as np\n",
    "import time\n",
    "import re\n",
    "import random\n",
    "import string as st\n",
    "from gensim.models import word2vec\n",
    "from collections import Counter\n",
    "from itertools import chain"
   ]
  },
  {
   "cell_type": "code",
   "execution_count": 2,
   "metadata": {
    "collapsed": true,
    "scrolled": true
   },
   "outputs": [],
   "source": [
    "# For display purposes\n",
    "#from IPython.display import display\n",
    "#pd.options.display.max_columns = 10\n",
    "all_start = time.time()"
   ]
  },
  {
   "cell_type": "markdown",
   "metadata": {},
   "source": [
    "# Data gathering and cleaning"
   ]
  },
  {
   "cell_type": "markdown",
   "metadata": {},
   "source": [
    "### Loading and cleaning"
   ]
  },
  {
   "cell_type": "code",
   "execution_count": 3,
   "metadata": {
    "collapsed": true
   },
   "outputs": [],
   "source": [
    "# Load the 3 datasets\n",
    "troll_users = pd.read_csv('Tweets/Trolls/users.csv')\n",
    "troll_tweets = pd.read_csv('Tweets/Trolls/tweets.csv')\n",
    "normal_tweets = pd.read_csv('Tweets/Normal/dashboard_x_usa_x_filter_nativeretweets.csv')"
   ]
  },
  {
   "cell_type": "code",
   "execution_count": 4,
   "metadata": {},
   "outputs": [
    {
     "name": "stdout",
     "output_type": "stream",
     "text": [
      "Columns of each dataframe at import :\n",
      "\n",
      "Troll users : ['id' 'location' 'name' 'followers_count' 'statuses_count' 'time_zone'\n",
      " 'verified' 'lang' 'screen_name' 'description' 'created_at'\n",
      " 'favourites_count' 'friends_count' 'listed_count']\n",
      "\n",
      "Troll tweets : ['user_id' 'user_key' 'created_at' 'created_str' 'retweet_count'\n",
      " 'retweeted' 'favorite_count' 'text' 'tweet_id' 'source' 'hashtags'\n",
      " 'expanded_urls' 'posted' 'mentions' 'retweeted_status_id'\n",
      " 'in_reply_to_status_id']\n",
      "\n",
      "Normal tweets : ['Tweet Id' 'Date' 'Hour' 'User Name' 'Nickname' 'Bio' 'Tweet content'\n",
      " 'Favs' 'RTs' 'Latitude' 'Longitude' 'Country' 'Place (as appears on Bio)'\n",
      " 'Profile picture' 'Followers' 'Following' 'Listed'\n",
      " 'Tweet language (ISO 639-1)' 'Tweet Url']\n"
     ]
    }
   ],
   "source": [
    "print('Columns of each dataframe at import :\\n\\nTroll users : {}\\n\\nTroll tweets : {}\\n\\nNormal tweets : {}'\n",
    "      .format(troll_users.columns.values, troll_tweets.columns.values, normal_tweets.columns.values))"
   ]
  },
  {
   "cell_type": "code",
   "execution_count": 5,
   "metadata": {
    "collapsed": true
   },
   "outputs": [],
   "source": [
    "# Make Nicknames consistent\n",
    "troll_users['screen_name'] = troll_users['screen_name'].str.lower()\n",
    "\n",
    "# Drop the irrelevant data\n",
    "users_to_drop = ['statuses_count', 'time_zone', 'verified', 'favourites_count']\n",
    "tweets_to_drop = ['created_at', 'tweet_id', 'source', 'posted', 'retweeted_status_id', 'retweeted', 'in_reply_to_status_id']\n",
    "normal_to_drop = ['Tweet Id', 'Latitude', 'Longitude', 'Country', 'Profile picture', 'Tweet Url']\n",
    "troll_users = troll_users.drop(users_to_drop, axis=1)\n",
    "troll_tweets = troll_tweets.drop(tweets_to_drop, axis=1)\n",
    "normal_tweets = normal_tweets.drop(normal_to_drop, axis=1)"
   ]
  },
  {
   "cell_type": "code",
   "execution_count": 6,
   "metadata": {
    "collapsed": true
   },
   "outputs": [],
   "source": [
    "users_new_cols = {'id': 'User Id', 'location': 'Location', 'name': 'User Name', \n",
    "                  'followers_count': 'Followers', 'lang': 'Language', 'screen_name': 'Nickname',\n",
    "                  'description': 'Bio', 'created_at': 'Account creation date', \n",
    "                  'friends_count': 'Following', 'listed_count': 'Listed'}\n",
    "tweets_new_cols = {'user_id': 'User Id', 'user_key': 'Nickname', 'created_str': 'Tweet date',\n",
    "                   'retweet_count': 'Retweets', 'favorite_count': 'Favorites', 'text': 'Tweet',\n",
    "                   'hashtags': 'Hashtags', 'expanded_urls': 'URLs', 'mentions': 'Mentions'}\n",
    "normal_new_cols = {'Tweet content': 'Tweet', 'Favs': 'Favorites', 'RTs': 'Retweets', \n",
    "                   'Place (as appears on Bio)': 'Location', 'Tweet language (ISO 639-1)': 'Language'}\n",
    "\n",
    "troll_users = troll_users.rename(columns=users_new_cols)\n",
    "troll_tweets = troll_tweets.rename(columns=tweets_new_cols)\n",
    "normal_tweets = normal_tweets.rename(columns=normal_new_cols)\n",
    "\n",
    "# Make times formats the same\n",
    "normal_tweets['Tweet date'] = normal_tweets['Date'] + ' ' + normal_tweets['Hour']\n",
    "normal_tweets = normal_tweets.drop(['Date', 'Hour'], axis=1)\n",
    "\n",
    "# Helps with merging\n",
    "troll_users = troll_users.drop(['User Id', 'Account creation date'], axis=1)\n",
    "troll_tweets = troll_tweets.drop('User Id', axis=1)"
   ]
  },
  {
   "cell_type": "code",
   "execution_count": 7,
   "metadata": {},
   "outputs": [
    {
     "name": "stdout",
     "output_type": "stream",
     "text": [
      "Columns of each dataframe after cleaning :\n",
      "\n",
      "Troll users : ['Location' 'User Name' 'Followers' 'Language' 'Nickname' 'Bio'\n",
      " 'Following' 'Listed']\n",
      "\n",
      "Troll tweets : ['Nickname' 'Tweet date' 'Retweets' 'Favorites' 'Tweet' 'Hashtags' 'URLs'\n",
      " 'Mentions']\n",
      "\n",
      "Normal tweets : ['User Name' 'Nickname' 'Bio' 'Tweet' 'Favorites' 'Retweets' 'Location'\n",
      " 'Followers' 'Following' 'Listed' 'Language' 'Tweet date']\n"
     ]
    }
   ],
   "source": [
    "print('Columns of each dataframe after cleaning :\\n\\nTroll users : {}\\n\\nTroll tweets : {}\\n\\nNormal tweets : {}'\n",
    "      .format(troll_users.columns.values, troll_tweets.columns.values, normal_tweets.columns.values))"
   ]
  },
  {
   "cell_type": "markdown",
   "metadata": {},
   "source": [
    "### Labeling and merging the datasets"
   ]
  },
  {
   "cell_type": "code",
   "execution_count": 8,
   "metadata": {
    "collapsed": true
   },
   "outputs": [],
   "source": [
    "# Merge the troll datasets\n",
    "trolls = pd.merge(left=troll_tweets, right=troll_users)"
   ]
  },
  {
   "cell_type": "code",
   "execution_count": 9,
   "metadata": {},
   "outputs": [
    {
     "data": {
      "text/html": [
       "<div>\n",
       "<style scoped>\n",
       "    .dataframe tbody tr th:only-of-type {\n",
       "        vertical-align: middle;\n",
       "    }\n",
       "\n",
       "    .dataframe tbody tr th {\n",
       "        vertical-align: top;\n",
       "    }\n",
       "\n",
       "    .dataframe thead th {\n",
       "        text-align: right;\n",
       "    }\n",
       "</style>\n",
       "<table border=\"1\" class=\"dataframe\">\n",
       "  <thead>\n",
       "    <tr style=\"text-align: right;\">\n",
       "      <th></th>\n",
       "      <th>Nickname</th>\n",
       "      <th>Tweet date</th>\n",
       "      <th>Retweets</th>\n",
       "      <th>Favorites</th>\n",
       "      <th>Tweet</th>\n",
       "      <th>Hashtags</th>\n",
       "      <th>URLs</th>\n",
       "      <th>Mentions</th>\n",
       "      <th>Location</th>\n",
       "      <th>User Name</th>\n",
       "      <th>Followers</th>\n",
       "      <th>Language</th>\n",
       "      <th>Bio</th>\n",
       "      <th>Following</th>\n",
       "      <th>Listed</th>\n",
       "    </tr>\n",
       "  </thead>\n",
       "  <tbody>\n",
       "    <tr>\n",
       "      <th>0</th>\n",
       "      <td>kathiemrr</td>\n",
       "      <td>2017-02-27 14:54:00</td>\n",
       "      <td>NaN</td>\n",
       "      <td>NaN</td>\n",
       "      <td>#ThingsDoneByMistake kissing auntie in the lips</td>\n",
       "      <td>[\"ThingsDoneByMistake\"]</td>\n",
       "      <td>[]</td>\n",
       "      <td>[]</td>\n",
       "      <td>Atlanta</td>\n",
       "      <td>Kathie</td>\n",
       "      <td>2970.0</td>\n",
       "      <td>en</td>\n",
       "      <td>Imperfection is beauty, madness is genius and ...</td>\n",
       "      <td>3157.0</td>\n",
       "      <td>22.0</td>\n",
       "    </tr>\n",
       "    <tr>\n",
       "      <th>1</th>\n",
       "      <td>kathiemrr</td>\n",
       "      <td>2016-11-28 16:17:36</td>\n",
       "      <td>NaN</td>\n",
       "      <td>NaN</td>\n",
       "      <td>RT @jadedsweetangel: #ToDoListBeforeChristmas ...</td>\n",
       "      <td>[\"ToDoListBeforeChristmas\"]</td>\n",
       "      <td>[]</td>\n",
       "      <td>[]</td>\n",
       "      <td>Atlanta</td>\n",
       "      <td>Kathie</td>\n",
       "      <td>2970.0</td>\n",
       "      <td>en</td>\n",
       "      <td>Imperfection is beauty, madness is genius and ...</td>\n",
       "      <td>3157.0</td>\n",
       "      <td>22.0</td>\n",
       "    </tr>\n",
       "  </tbody>\n",
       "</table>\n",
       "</div>"
      ],
      "text/plain": [
       "    Nickname           Tweet date  Retweets  Favorites  \\\n",
       "0  kathiemrr  2017-02-27 14:54:00       NaN        NaN   \n",
       "1  kathiemrr  2016-11-28 16:17:36       NaN        NaN   \n",
       "\n",
       "                                               Tweet  \\\n",
       "0    #ThingsDoneByMistake kissing auntie in the lips   \n",
       "1  RT @jadedsweetangel: #ToDoListBeforeChristmas ...   \n",
       "\n",
       "                      Hashtags URLs Mentions Location User Name  Followers  \\\n",
       "0      [\"ThingsDoneByMistake\"]   []       []  Atlanta    Kathie     2970.0   \n",
       "1  [\"ToDoListBeforeChristmas\"]   []       []  Atlanta    Kathie     2970.0   \n",
       "\n",
       "  Language                                                Bio  Following  \\\n",
       "0       en  Imperfection is beauty, madness is genius and ...     3157.0   \n",
       "1       en  Imperfection is beauty, madness is genius and ...     3157.0   \n",
       "\n",
       "   Listed  \n",
       "0    22.0  \n",
       "1    22.0  "
      ]
     },
     "execution_count": 9,
     "metadata": {},
     "output_type": "execute_result"
    }
   ],
   "source": [
    "trolls.iloc[:2, :]"
   ]
  },
  {
   "cell_type": "code",
   "execution_count": 10,
   "metadata": {},
   "outputs": [
    {
     "data": {
      "text/html": [
       "<div>\n",
       "<style scoped>\n",
       "    .dataframe tbody tr th:only-of-type {\n",
       "        vertical-align: middle;\n",
       "    }\n",
       "\n",
       "    .dataframe tbody tr th {\n",
       "        vertical-align: top;\n",
       "    }\n",
       "\n",
       "    .dataframe thead th {\n",
       "        text-align: right;\n",
       "    }\n",
       "</style>\n",
       "<table border=\"1\" class=\"dataframe\">\n",
       "  <thead>\n",
       "    <tr style=\"text-align: right;\">\n",
       "      <th></th>\n",
       "      <th>User Name</th>\n",
       "      <th>Nickname</th>\n",
       "      <th>Bio</th>\n",
       "      <th>Tweet</th>\n",
       "      <th>Favorites</th>\n",
       "      <th>Retweets</th>\n",
       "      <th>Location</th>\n",
       "      <th>Followers</th>\n",
       "      <th>Following</th>\n",
       "      <th>Listed</th>\n",
       "      <th>Language</th>\n",
       "      <th>Tweet date</th>\n",
       "    </tr>\n",
       "  </thead>\n",
       "  <tbody>\n",
       "    <tr>\n",
       "      <th>0</th>\n",
       "      <td>Bill Schulhoff</td>\n",
       "      <td>BillSchulhoff</td>\n",
       "      <td>Husband,Dad,GrandDad,Ordained Minister, Umpire...</td>\n",
       "      <td>Wind 3.2 mph NNE. Barometer 30.20 in, Rising s...</td>\n",
       "      <td>NaN</td>\n",
       "      <td>NaN</td>\n",
       "      <td>East Patchogue, NY</td>\n",
       "      <td>386.0</td>\n",
       "      <td>705.0</td>\n",
       "      <td>24.0</td>\n",
       "      <td>en</td>\n",
       "      <td>2016-04-16 12:44</td>\n",
       "    </tr>\n",
       "    <tr>\n",
       "      <th>1</th>\n",
       "      <td>Daniele Polis</td>\n",
       "      <td>danipolis</td>\n",
       "      <td>Viagens, geek, moda, batons laranja, cabelos c...</td>\n",
       "      <td>Pausa pro café antes de embarcar no próximo vô...</td>\n",
       "      <td>NaN</td>\n",
       "      <td>NaN</td>\n",
       "      <td>Grapevine, TX</td>\n",
       "      <td>812.0</td>\n",
       "      <td>647.0</td>\n",
       "      <td>16.0</td>\n",
       "      <td>pt</td>\n",
       "      <td>2016-04-16 12:44</td>\n",
       "    </tr>\n",
       "  </tbody>\n",
       "</table>\n",
       "</div>"
      ],
      "text/plain": [
       "        User Name       Nickname  \\\n",
       "0  Bill Schulhoff  BillSchulhoff   \n",
       "1   Daniele Polis      danipolis   \n",
       "\n",
       "                                                 Bio  \\\n",
       "0  Husband,Dad,GrandDad,Ordained Minister, Umpire...   \n",
       "1  Viagens, geek, moda, batons laranja, cabelos c...   \n",
       "\n",
       "                                               Tweet  Favorites  Retweets  \\\n",
       "0  Wind 3.2 mph NNE. Barometer 30.20 in, Rising s...        NaN       NaN   \n",
       "1  Pausa pro café antes de embarcar no próximo vô...        NaN       NaN   \n",
       "\n",
       "             Location  Followers  Following  Listed Language        Tweet date  \n",
       "0  East Patchogue, NY      386.0      705.0    24.0       en  2016-04-16 12:44  \n",
       "1       Grapevine, TX      812.0      647.0    16.0       pt  2016-04-16 12:44  "
      ]
     },
     "execution_count": 10,
     "metadata": {},
     "output_type": "execute_result"
    }
   ],
   "source": [
    "normal_tweets.iloc[:2, :]"
   ]
  },
  {
   "cell_type": "code",
   "execution_count": 11,
   "metadata": {
    "collapsed": true
   },
   "outputs": [],
   "source": [
    "# Put labels\n",
    "trolls['y'] = pd.Series([1 for x in range(len(trolls))], index=trolls.index)\n",
    "normal_tweets['y'] = pd.Series([0 for x in range(len(normal_tweets))], index=normal_tweets.index)"
   ]
  },
  {
   "cell_type": "code",
   "execution_count": 12,
   "metadata": {},
   "outputs": [
    {
     "name": "stdout",
     "output_type": "stream",
     "text": [
      "(408271, 16)\n"
     ]
    }
   ],
   "source": [
    "# Merge normal and troll data \n",
    "tweets = trolls.append(normal_tweets, ignore_index=True)\n",
    "print(tweets.shape)"
   ]
  },
  {
   "cell_type": "code",
   "execution_count": 13,
   "metadata": {
    "collapsed": true
   },
   "outputs": [],
   "source": [
    "# Rows to display\n",
    "rows = [1, 100000, 300000]\n",
    "#rows = [random.randint(0, len(tweets)) for i in range(4)]"
   ]
  },
  {
   "cell_type": "code",
   "execution_count": 14,
   "metadata": {},
   "outputs": [
    {
     "data": {
      "text/html": [
       "<div>\n",
       "<style scoped>\n",
       "    .dataframe tbody tr th:only-of-type {\n",
       "        vertical-align: middle;\n",
       "    }\n",
       "\n",
       "    .dataframe tbody tr th {\n",
       "        vertical-align: top;\n",
       "    }\n",
       "\n",
       "    .dataframe thead th {\n",
       "        text-align: right;\n",
       "    }\n",
       "</style>\n",
       "<table border=\"1\" class=\"dataframe\">\n",
       "  <thead>\n",
       "    <tr style=\"text-align: right;\">\n",
       "      <th></th>\n",
       "      <th>Bio</th>\n",
       "      <th>Favorites</th>\n",
       "      <th>Followers</th>\n",
       "      <th>Following</th>\n",
       "      <th>Hashtags</th>\n",
       "      <th>Language</th>\n",
       "      <th>Listed</th>\n",
       "      <th>Location</th>\n",
       "      <th>Mentions</th>\n",
       "      <th>Nickname</th>\n",
       "      <th>Retweets</th>\n",
       "      <th>Tweet</th>\n",
       "      <th>Tweet date</th>\n",
       "      <th>URLs</th>\n",
       "      <th>User Name</th>\n",
       "      <th>y</th>\n",
       "    </tr>\n",
       "  </thead>\n",
       "  <tbody>\n",
       "    <tr>\n",
       "      <th>1</th>\n",
       "      <td>Imperfection is beauty, madness is genius and ...</td>\n",
       "      <td>NaN</td>\n",
       "      <td>2970.0</td>\n",
       "      <td>3157.0</td>\n",
       "      <td>[\"ToDoListBeforeChristmas\"]</td>\n",
       "      <td>en</td>\n",
       "      <td>22.0</td>\n",
       "      <td>Atlanta</td>\n",
       "      <td>[]</td>\n",
       "      <td>kathiemrr</td>\n",
       "      <td>NaN</td>\n",
       "      <td>RT @jadedsweetangel: #ToDoListBeforeChristmas ...</td>\n",
       "      <td>2016-11-28 16:17:36</td>\n",
       "      <td>[]</td>\n",
       "      <td>Kathie</td>\n",
       "      <td>1</td>\n",
       "    </tr>\n",
       "    <tr>\n",
       "      <th>100000</th>\n",
       "      <td>Lover of Life and Israel, Jesus and Country mu...</td>\n",
       "      <td>NaN</td>\n",
       "      <td>338.0</td>\n",
       "      <td>429.0</td>\n",
       "      <td>[]</td>\n",
       "      <td>en</td>\n",
       "      <td>6.0</td>\n",
       "      <td>USA</td>\n",
       "      <td>[]</td>\n",
       "      <td>hollandpatrickk</td>\n",
       "      <td>NaN</td>\n",
       "      <td>RT @PrisonPlanet: Trump proves once again that...</td>\n",
       "      <td>2017-01-02 21:46:18</td>\n",
       "      <td>[]</td>\n",
       "      <td>Patrick</td>\n",
       "      <td>1</td>\n",
       "    </tr>\n",
       "    <tr>\n",
       "      <th>300000</th>\n",
       "      <td>Segment Producer for Noticieros - Telemundo 51...</td>\n",
       "      <td>NaN</td>\n",
       "      <td>810.0</td>\n",
       "      <td>1028.0</td>\n",
       "      <td>NaN</td>\n",
       "      <td>es</td>\n",
       "      <td>16.0</td>\n",
       "      <td>Miami, FL</td>\n",
       "      <td>NaN</td>\n",
       "      <td>DanielTeleMundo</td>\n",
       "      <td>NaN</td>\n",
       "      <td>Recording the program Rostros for Telemundo 51...</td>\n",
       "      <td>2016-04-15 17:17</td>\n",
       "      <td>NaN</td>\n",
       "      <td>DanielTelemundo</td>\n",
       "      <td>0</td>\n",
       "    </tr>\n",
       "  </tbody>\n",
       "</table>\n",
       "</div>"
      ],
      "text/plain": [
       "                                                      Bio  Favorites  \\\n",
       "1       Imperfection is beauty, madness is genius and ...        NaN   \n",
       "100000  Lover of Life and Israel, Jesus and Country mu...        NaN   \n",
       "300000  Segment Producer for Noticieros - Telemundo 51...        NaN   \n",
       "\n",
       "        Followers  Following                     Hashtags Language  Listed  \\\n",
       "1          2970.0     3157.0  [\"ToDoListBeforeChristmas\"]       en    22.0   \n",
       "100000      338.0      429.0                           []       en     6.0   \n",
       "300000      810.0     1028.0                          NaN       es    16.0   \n",
       "\n",
       "         Location Mentions         Nickname  Retweets  \\\n",
       "1         Atlanta       []        kathiemrr       NaN   \n",
       "100000        USA       []  hollandpatrickk       NaN   \n",
       "300000  Miami, FL      NaN  DanielTeleMundo       NaN   \n",
       "\n",
       "                                                    Tweet  \\\n",
       "1       RT @jadedsweetangel: #ToDoListBeforeChristmas ...   \n",
       "100000  RT @PrisonPlanet: Trump proves once again that...   \n",
       "300000  Recording the program Rostros for Telemundo 51...   \n",
       "\n",
       "                 Tweet date URLs        User Name  y  \n",
       "1       2016-11-28 16:17:36   []           Kathie  1  \n",
       "100000  2017-01-02 21:46:18   []          Patrick  1  \n",
       "300000     2016-04-15 17:17  NaN  DanielTelemundo  0  "
      ]
     },
     "execution_count": 14,
     "metadata": {},
     "output_type": "execute_result"
    }
   ],
   "source": [
    "tweets.iloc[rows, :]"
   ]
  },
  {
   "cell_type": "markdown",
   "metadata": {},
   "source": [
    "### Extracting hashtags and mentions"
   ]
  },
  {
   "cell_type": "code",
   "execution_count": 15,
   "metadata": {
    "collapsed": true
   },
   "outputs": [],
   "source": [
    "def extract_hashtag(string):\n",
    "    htags = []\n",
    "    string = str(string)\n",
    "    for word in string.split():\n",
    "        if word[0] == '#':\n",
    "            htags.append(word[1:])\n",
    "    splits= []\n",
    "    # Puts space before capital letters and numbers\n",
    "    for h in htags:\n",
    "        splits.append(re.sub(r\"([A-Z0-9])\", r\" \\1\", h)[1:])\n",
    "    return splits\n",
    "\n",
    "def extract_mentions(string):\n",
    "    men = []\n",
    "    string = str(string)\n",
    "    for word in string.split():\n",
    "        if word[0] == '@':\n",
    "            if word[-1] == ':':\n",
    "                men.append(word[1:-1])\n",
    "            else:\n",
    "                men.append(word[1:])\n",
    "    return men\n",
    "\n",
    "# Not implemented yet, takes way too long to run\n",
    "def extract_links(string):\n",
    "    links = []\n",
    "    string = str(string)\n",
    "    for word in string.split():\n",
    "        if word[:4] == 'http':\n",
    "            try:\n",
    "                link = urlopen(word).geturl()  # This waits for the website (up to 1 sec)\n",
    "                links.append(link)\n",
    "            except:\n",
    "                pass\n",
    "    return links\n",
    "\n",
    "def extract_website(data):\n",
    "    data = str(data)\n",
    "    websites = []\n",
    "    for string in data.split():\n",
    "        start = string.find('//') + 2\n",
    "        if string[start:start+3] == 'www':\n",
    "            start = start+4\n",
    "        if start > 1:\n",
    "            end = string[start:].find('/') + start\n",
    "            websites.append(string[start:end])\n",
    "    return websites"
   ]
  },
  {
   "cell_type": "code",
   "execution_count": 16,
   "metadata": {
    "scrolled": true
   },
   "outputs": [
    {
     "name": "stdout",
     "output_type": "stream",
     "text": [
      "Sample of extracted websites : \n"
     ]
    },
    {
     "data": {
      "text/plain": [
       "330       [twitter.com]\n",
       "655       [newsmax.com]\n",
       "696     [wikileaks.org]\n",
       "1306      [twitter.com]\n",
       "1504      [twitter.com]\n",
       "Name: Websites, dtype: object"
      ]
     },
     "execution_count": 16,
     "metadata": {},
     "output_type": "execute_result"
    }
   ],
   "source": [
    "tweets['Websites'] = tweets['URLs'].apply(extract_website)\n",
    "print('Sample of extracted websites : ')\n",
    "tweets['Websites'][tweets['Websites'].apply(lambda x: len(x) > 0)][:5]"
   ]
  },
  {
   "cell_type": "code",
   "execution_count": 17,
   "metadata": {
    "collapsed": true
   },
   "outputs": [],
   "source": [
    "tweets['Hashtags'] = tweets['Tweet'].apply(extract_hashtag)\n",
    "tweets['Mentions'] = tweets['Tweet'].apply(extract_mentions)"
   ]
  },
  {
   "cell_type": "markdown",
   "metadata": {},
   "source": [
    "### Cleaning tweets"
   ]
  },
  {
   "cell_type": "code",
   "execution_count": 18,
   "metadata": {
    "collapsed": true
   },
   "outputs": [],
   "source": [
    "emoji_pattern = re.compile(\"[\"\n",
    "        u\"\\U0001F600-\\U0001F64F\"  # emoticons\n",
    "        u\"\\U0001F300-\\U0001F5FF\"  # symbols & pictographs\n",
    "        u\"\\U0001F680-\\U0001F6FF\"  # transport & map symbols\n",
    "        u\"\\U0001F1E0-\\U0001F1FF\"  # flags (iOS)\n",
    "                           \"]+\", flags=re.UNICODE)\n",
    "\n",
    "punc = (st.punctuation.replace('@', '').replace('#', '')) + '\"' + \"'\" + '”' + '“' + '‘'\n",
    "translator = str.maketrans('', '', punc)\n",
    "\n",
    "def clean(string):\n",
    "    string = str(string).lower()\n",
    "    string = string.translate(translator)\n",
    "    string = string.split()\n",
    "    to_remove = []\n",
    "    for word in string:\n",
    "        if word[0] == '#' or word[0] == '@' or word == 'rt' or word[:4] == 'http' or word[0].isnumeric():\n",
    "            to_remove.append(word)\n",
    "    for word in to_remove:\n",
    "        string.remove(word)\n",
    "    text = emoji_pattern.sub(r'', ' '.join(string))\n",
    "    text = re.sub(\"[^a-zA-Z ]\",\"\", text)\n",
    "    return text"
   ]
  },
  {
   "cell_type": "code",
   "execution_count": 19,
   "metadata": {
    "collapsed": true,
    "scrolled": true
   },
   "outputs": [],
   "source": [
    "# cleans up and keeps only the text in each tweet\n",
    "tweets['Tweet'] = tweets['Tweet'].apply(clean)"
   ]
  },
  {
   "cell_type": "code",
   "execution_count": 20,
   "metadata": {},
   "outputs": [
    {
     "data": {
      "text/html": [
       "<div>\n",
       "<style scoped>\n",
       "    .dataframe tbody tr th:only-of-type {\n",
       "        vertical-align: middle;\n",
       "    }\n",
       "\n",
       "    .dataframe tbody tr th {\n",
       "        vertical-align: top;\n",
       "    }\n",
       "\n",
       "    .dataframe thead th {\n",
       "        text-align: right;\n",
       "    }\n",
       "</style>\n",
       "<table border=\"1\" class=\"dataframe\">\n",
       "  <thead>\n",
       "    <tr style=\"text-align: right;\">\n",
       "      <th></th>\n",
       "      <th>Bio</th>\n",
       "      <th>Favorites</th>\n",
       "      <th>Followers</th>\n",
       "      <th>Following</th>\n",
       "      <th>Hashtags</th>\n",
       "      <th>Language</th>\n",
       "      <th>Listed</th>\n",
       "      <th>Location</th>\n",
       "      <th>Mentions</th>\n",
       "      <th>Nickname</th>\n",
       "      <th>Retweets</th>\n",
       "      <th>Tweet</th>\n",
       "      <th>Tweet date</th>\n",
       "      <th>URLs</th>\n",
       "      <th>User Name</th>\n",
       "      <th>y</th>\n",
       "      <th>Websites</th>\n",
       "    </tr>\n",
       "  </thead>\n",
       "  <tbody>\n",
       "    <tr>\n",
       "      <th>1</th>\n",
       "      <td>Imperfection is beauty, madness is genius and ...</td>\n",
       "      <td>NaN</td>\n",
       "      <td>2970.0</td>\n",
       "      <td>3157.0</td>\n",
       "      <td>[To Do List Before Christmas]</td>\n",
       "      <td>en</td>\n",
       "      <td>22.0</td>\n",
       "      <td>Atlanta</td>\n",
       "      <td>[jadedsweetangel]</td>\n",
       "      <td>kathiemrr</td>\n",
       "      <td>NaN</td>\n",
       "      <td>get on the naughty list</td>\n",
       "      <td>2016-11-28 16:17:36</td>\n",
       "      <td>[]</td>\n",
       "      <td>Kathie</td>\n",
       "      <td>1</td>\n",
       "      <td>[]</td>\n",
       "    </tr>\n",
       "    <tr>\n",
       "      <th>100000</th>\n",
       "      <td>Lover of Life and Israel, Jesus and Country mu...</td>\n",
       "      <td>NaN</td>\n",
       "      <td>338.0</td>\n",
       "      <td>429.0</td>\n",
       "      <td>[]</td>\n",
       "      <td>en</td>\n",
       "      <td>6.0</td>\n",
       "      <td>USA</td>\n",
       "      <td>[PrisonPlanet]</td>\n",
       "      <td>hollandpatrickk</td>\n",
       "      <td>NaN</td>\n",
       "      <td>trump proves once again that he cares about bl...</td>\n",
       "      <td>2017-01-02 21:46:18</td>\n",
       "      <td>[]</td>\n",
       "      <td>Patrick</td>\n",
       "      <td>1</td>\n",
       "      <td>[]</td>\n",
       "    </tr>\n",
       "    <tr>\n",
       "      <th>300000</th>\n",
       "      <td>Segment Producer for Noticieros - Telemundo 51...</td>\n",
       "      <td>NaN</td>\n",
       "      <td>810.0</td>\n",
       "      <td>1028.0</td>\n",
       "      <td>[]</td>\n",
       "      <td>es</td>\n",
       "      <td>16.0</td>\n",
       "      <td>Miami, FL</td>\n",
       "      <td>[]</td>\n",
       "      <td>DanielTeleMundo</td>\n",
       "      <td>NaN</td>\n",
       "      <td>recording the program rostros for telemundo at...</td>\n",
       "      <td>2016-04-15 17:17</td>\n",
       "      <td>NaN</td>\n",
       "      <td>DanielTelemundo</td>\n",
       "      <td>0</td>\n",
       "      <td>[]</td>\n",
       "    </tr>\n",
       "  </tbody>\n",
       "</table>\n",
       "</div>"
      ],
      "text/plain": [
       "                                                      Bio  Favorites  \\\n",
       "1       Imperfection is beauty, madness is genius and ...        NaN   \n",
       "100000  Lover of Life and Israel, Jesus and Country mu...        NaN   \n",
       "300000  Segment Producer for Noticieros - Telemundo 51...        NaN   \n",
       "\n",
       "        Followers  Following                       Hashtags Language  Listed  \\\n",
       "1          2970.0     3157.0  [To Do List Before Christmas]       en    22.0   \n",
       "100000      338.0      429.0                             []       en     6.0   \n",
       "300000      810.0     1028.0                             []       es    16.0   \n",
       "\n",
       "         Location           Mentions         Nickname  Retweets  \\\n",
       "1         Atlanta  [jadedsweetangel]        kathiemrr       NaN   \n",
       "100000        USA     [PrisonPlanet]  hollandpatrickk       NaN   \n",
       "300000  Miami, FL                 []  DanielTeleMundo       NaN   \n",
       "\n",
       "                                                    Tweet  \\\n",
       "1                                 get on the naughty list   \n",
       "100000  trump proves once again that he cares about bl...   \n",
       "300000  recording the program rostros for telemundo at...   \n",
       "\n",
       "                 Tweet date URLs        User Name  y Websites  \n",
       "1       2016-11-28 16:17:36   []           Kathie  1       []  \n",
       "100000  2017-01-02 21:46:18   []          Patrick  1       []  \n",
       "300000     2016-04-15 17:17  NaN  DanielTelemundo  0       []  "
      ]
     },
     "execution_count": 20,
     "metadata": {},
     "output_type": "execute_result"
    }
   ],
   "source": [
    "tweets.iloc[rows, :]"
   ]
  },
  {
   "cell_type": "markdown",
   "metadata": {},
   "source": [
    "### Replace Missing Values"
   ]
  },
  {
   "cell_type": "code",
   "execution_count": 21,
   "metadata": {},
   "outputs": [
    {
     "name": "stdout",
     "output_type": "stream",
     "text": [
      "(408271, 17)\n",
      "(335381, 17)\n"
     ]
    }
   ],
   "source": [
    "print(tweets.shape)\n",
    "#replace NaNs with 0s where appropriate\n",
    "tweets['Retweets'].fillna(0,inplace=True)\n",
    "tweets['Favorites'].fillna(0,inplace=True)\n",
    "tweets['URLs'].fillna(0,inplace=True)\n",
    "#replace NaNs with empty list where appropriate (URLs)\n",
    "\n",
    "# Drop nans\n",
    "tweets = tweets.dropna(axis=0)\n",
    "print(tweets.shape)"
   ]
  },
  {
   "cell_type": "code",
   "execution_count": 22,
   "metadata": {
    "scrolled": true
   },
   "outputs": [
    {
     "data": {
      "text/html": [
       "<div>\n",
       "<style scoped>\n",
       "    .dataframe tbody tr th:only-of-type {\n",
       "        vertical-align: middle;\n",
       "    }\n",
       "\n",
       "    .dataframe tbody tr th {\n",
       "        vertical-align: top;\n",
       "    }\n",
       "\n",
       "    .dataframe thead th {\n",
       "        text-align: right;\n",
       "    }\n",
       "</style>\n",
       "<table border=\"1\" class=\"dataframe\">\n",
       "  <thead>\n",
       "    <tr style=\"text-align: right;\">\n",
       "      <th></th>\n",
       "      <th>Bio</th>\n",
       "      <th>Favorites</th>\n",
       "      <th>Followers</th>\n",
       "      <th>Following</th>\n",
       "      <th>Hashtags</th>\n",
       "      <th>Language</th>\n",
       "      <th>Listed</th>\n",
       "      <th>Location</th>\n",
       "      <th>Mentions</th>\n",
       "      <th>Nickname</th>\n",
       "      <th>Retweets</th>\n",
       "      <th>Tweet</th>\n",
       "      <th>Tweet date</th>\n",
       "      <th>URLs</th>\n",
       "      <th>User Name</th>\n",
       "      <th>y</th>\n",
       "      <th>Websites</th>\n",
       "    </tr>\n",
       "  </thead>\n",
       "  <tbody>\n",
       "    <tr>\n",
       "      <th>1</th>\n",
       "      <td>Imperfection is beauty, madness is genius and ...</td>\n",
       "      <td>0.0</td>\n",
       "      <td>2970.0</td>\n",
       "      <td>3157.0</td>\n",
       "      <td>[To Do List Before Christmas]</td>\n",
       "      <td>en</td>\n",
       "      <td>22.0</td>\n",
       "      <td>Atlanta</td>\n",
       "      <td>[jadedsweetangel]</td>\n",
       "      <td>kathiemrr</td>\n",
       "      <td>0.0</td>\n",
       "      <td>get on the naughty list</td>\n",
       "      <td>2016-11-28 16:17:36</td>\n",
       "      <td>[]</td>\n",
       "      <td>Kathie</td>\n",
       "      <td>1</td>\n",
       "      <td>[]</td>\n",
       "    </tr>\n",
       "    <tr>\n",
       "      <th>123464</th>\n",
       "      <td>Life is a beautiful struggle. Seek enlightenme...</td>\n",
       "      <td>0.0</td>\n",
       "      <td>914.0</td>\n",
       "      <td>847.0</td>\n",
       "      <td>[]</td>\n",
       "      <td>en</td>\n",
       "      <td>23.0</td>\n",
       "      <td>USA, Atlanta</td>\n",
       "      <td>[Superstar_floss]</td>\n",
       "      <td>mrclydepratt</td>\n",
       "      <td>0.0</td>\n",
       "      <td>feel this way feat fred the godson rysovalid a...</td>\n",
       "      <td>2017-04-10 22:03:54</td>\n",
       "      <td>[]</td>\n",
       "      <td>Clyde Pratt</td>\n",
       "      <td>1</td>\n",
       "      <td>[]</td>\n",
       "    </tr>\n",
       "    <tr>\n",
       "      <th>368504</th>\n",
       "      <td>Follow this account for geo-targeted Hospitali...</td>\n",
       "      <td>0.0</td>\n",
       "      <td>479.0</td>\n",
       "      <td>295.0</td>\n",
       "      <td>[Hospitality, Job, L Y N W O O D,, Veterans, J...</td>\n",
       "      <td>en</td>\n",
       "      <td>85.0</td>\n",
       "      <td>Lynwood, CA</td>\n",
       "      <td>[]</td>\n",
       "      <td>tmj_lax_hrta</td>\n",
       "      <td>0.0</td>\n",
       "      <td>alert shift supervisor us starbucks atlantic a...</td>\n",
       "      <td>2016-04-14 20:29</td>\n",
       "      <td>0</td>\n",
       "      <td>TMJ-LAX HRTA Jobs</td>\n",
       "      <td>0</td>\n",
       "      <td>[]</td>\n",
       "    </tr>\n",
       "  </tbody>\n",
       "</table>\n",
       "</div>"
      ],
      "text/plain": [
       "                                                      Bio  Favorites  \\\n",
       "1       Imperfection is beauty, madness is genius and ...        0.0   \n",
       "123464  Life is a beautiful struggle. Seek enlightenme...        0.0   \n",
       "368504  Follow this account for geo-targeted Hospitali...        0.0   \n",
       "\n",
       "        Followers  Following  \\\n",
       "1          2970.0     3157.0   \n",
       "123464      914.0      847.0   \n",
       "368504      479.0      295.0   \n",
       "\n",
       "                                                 Hashtags Language  Listed  \\\n",
       "1                           [To Do List Before Christmas]       en    22.0   \n",
       "123464                                                 []       en    23.0   \n",
       "368504  [Hospitality, Job, L Y N W O O D,, Veterans, J...       en    85.0   \n",
       "\n",
       "            Location           Mentions      Nickname  Retweets  \\\n",
       "1            Atlanta  [jadedsweetangel]     kathiemrr       0.0   \n",
       "123464  USA, Atlanta  [Superstar_floss]  mrclydepratt       0.0   \n",
       "368504   Lynwood, CA                 []  tmj_lax_hrta       0.0   \n",
       "\n",
       "                                                    Tweet  \\\n",
       "1                                 get on the naughty list   \n",
       "123464  feel this way feat fred the godson rysovalid a...   \n",
       "368504  alert shift supervisor us starbucks atlantic a...   \n",
       "\n",
       "                 Tweet date URLs          User Name  y Websites  \n",
       "1       2016-11-28 16:17:36   []             Kathie  1       []  \n",
       "123464  2017-04-10 22:03:54   []        Clyde Pratt  1       []  \n",
       "368504     2016-04-14 20:29    0  TMJ-LAX HRTA Jobs  0       []  "
      ]
     },
     "execution_count": 22,
     "metadata": {},
     "output_type": "execute_result"
    }
   ],
   "source": [
    "tweets.iloc[rows, :]"
   ]
  },
  {
   "cell_type": "code",
   "execution_count": 23,
   "metadata": {
    "collapsed": true
   },
   "outputs": [],
   "source": [
    "# Suffle for training and testing\n",
    "tweets = tweets.sample(frac=1).reset_index(drop=True)"
   ]
  },
  {
   "cell_type": "markdown",
   "metadata": {},
   "source": [
    "# Different methods for NLP : 1 hot encoding for K Nearsest Neighbors and SVM "
   ]
  },
  {
   "cell_type": "code",
   "execution_count": 24,
   "metadata": {
    "collapsed": true
   },
   "outputs": [],
   "source": [
    "#things that would be good to do\n",
    "#lemmatization\n",
    "#removing stopwords\n",
    "\n",
    "#this is for the paper, we won't do this for the project"
   ]
  },
  {
   "cell_type": "code",
   "execution_count": 25,
   "metadata": {
    "collapsed": true
   },
   "outputs": [],
   "source": [
    "def get_best_model(model, X, y, param_dict, crossval):\n",
    "    start = time.time()\n",
    "    gs = sk.model_selection.GridSearchCV(model, param_dict, cv=crossval, refit = True)\n",
    "    gs.fit(X, y)\n",
    "    print('Gridsearch took {:.3f} secs to run on {} samples'.format(time.time() - start, len(X)))\n",
    "    best_acc = gs.best_score_\n",
    "    print('Best accuracy is {}\\nBest estimator :\\n{}'.format(best_acc, gs.best_estimator_))\n",
    "    return gs, best_acc"
   ]
  },
  {
   "cell_type": "code",
   "execution_count": 26,
   "metadata": {
    "collapsed": true
   },
   "outputs": [],
   "source": [
    "def train_test_model(model, X_train, y_train, X_test, y_test):\n",
    "    start = time.time()\n",
    "    model.fit(X_train, y_train)\n",
    "    acc = model.score(X_test, y_test)\n",
    "    print('Training took {:.3f} seconds'.format(time.time()-start))\n",
    "    print('Using {} samples, this model got accuracy {}'.format(len(X_train) + len(X_test), acc))\n",
    "    return model, acc"
   ]
  },
  {
   "cell_type": "markdown",
   "metadata": {},
   "source": [
    "### Set up data for 1 hot encoding"
   ]
  },
  {
   "cell_type": "code",
   "execution_count": 27,
   "metadata": {
    "collapsed": true
   },
   "outputs": [],
   "source": [
    "# Not used for now\n",
    "\n",
    "# replace language with one-hot encoded form\n",
    "#one_hot_lang = pd.get_dummies(tweets['Language'])\n",
    "# number of mentions\n",
    "#num_mentions = tweets['Mentions'].apply(lambda x: len(x))\n",
    "\n",
    "# Use only english for now\n",
    "tweets = tweets[tweets['Language'] == 'en']"
   ]
  },
  {
   "cell_type": "code",
   "execution_count": 28,
   "metadata": {
    "collapsed": true,
    "scrolled": true
   },
   "outputs": [],
   "source": [
    "def create_1_hot(num_rows, cols):\n",
    "    # For now use only tweets\n",
    "    result = tweets[cols][:num_rows].copy()\n",
    "    #create 1 hot dataframe :\n",
    "    start = time.time()\n",
    "    result = result.str.get_dummies(sep=' ')\n",
    "    print('Took {:.3f} secs to create 1 hot matrix with dimensions {}'.format(time.time()-start, result.shape)) # 170 sec for 10,000\n",
    "    columns_names = result.columns.values.tolist()\n",
    "    return result.as_matrix(), columns_names"
   ]
  },
  {
   "cell_type": "code",
   "execution_count": 29,
   "metadata": {
    "collapsed": true
   },
   "outputs": [],
   "source": [
    "def make_matrices(size_gs, size_best, encoding):\n",
    "    # Sets up matrics for girdsearch and for the best estimator\n",
    "    if encoding == '1hot':\n",
    "        matrix_gs, cols_gs = create_1_hot(size_gs, 'Tweet')\n",
    "        matrix_best, cols_best = create_1_hot(size_best, 'Tweet')\n",
    "    elif encoding == 'w2v_tfidf':\n",
    "        matrix_gs = create_word2vec(size_gs, 'Tweet', 'tfidf')\n",
    "        matrix_best = create_word2vec(size_best, 'Tweet', 'tfidf')\n",
    "    elif encoding == 'w2v_avg':\n",
    "        matrix_gs = create_word2vec(size_gs, 'Tweet', 'avg')\n",
    "        matrix_best = create_word2vec(size_best, 'Tweet', 'avg')\n",
    "    else:\n",
    "        raise ValueError('Input needs to be \"1hot\", \"tfidf\" or \"avg\"')\n",
    "    y_gs = tweets['y'][:size_gs].as_matrix()\n",
    "    X_train, X_test, y_train, y_test = sk.model_selection.train_test_split(\n",
    "    matrix_best, tweets['y'][:size_best].as_matrix(), test_size=0.2, random_state=0)\n",
    "    if encoding == '1hot':\n",
    "        return matrix_gs, y_gs, cols_gs, X_train, y_train, X_test, y_test, cols_best\n",
    "    return matrix_gs, y_gs, X_train, y_train, X_test, y_test"
   ]
  },
  {
   "cell_type": "code",
   "execution_count": 30,
   "metadata": {},
   "outputs": [
    {
     "name": "stdout",
     "output_type": "stream",
     "text": [
      "Took 15.702 secs to create 1 hot matrix with dimensions (2000, 5493)\n",
      "Took 240.570 secs to create 1 hot matrix with dimensions (10000, 15127)\n"
     ]
    }
   ],
   "source": [
    "size_grid, size_best_est = 2000, 10000\n",
    "crossval = 3\n",
    "gridsearch_matrix_1_hot, y, columns_gs_1_hot, X_train, y_train, X_test, y_test, columns_1_hot = make_matrices(size_grid, size_best_est, '1hot')"
   ]
  },
  {
   "cell_type": "markdown",
   "metadata": {},
   "source": [
    "## KNN"
   ]
  },
  {
   "cell_type": "markdown",
   "metadata": {},
   "source": [
    "### Setting up"
   ]
  },
  {
   "cell_type": "code",
   "execution_count": 31,
   "metadata": {
    "collapsed": true
   },
   "outputs": [],
   "source": [
    "knn_1h = sk.neighbors.KNeighborsClassifier(n_jobs=-1)\n",
    "\n",
    "# Number of nearest neighbors to consider\n",
    "n_neighbors_list = [i+1 for i in range(6)]\n",
    "\n",
    "# Weighting of neighbors, whether they all get an equal vote or are weighted by distance\n",
    "weights_list = ['uniform','distance']\n",
    "param_dict_1h_KNN = {'n_neighbors':n_neighbors_list,'weights':weights_list}"
   ]
  },
  {
   "cell_type": "markdown",
   "metadata": {},
   "source": [
    "### Run Gridsearch"
   ]
  },
  {
   "cell_type": "code",
   "execution_count": 32,
   "metadata": {
    "scrolled": true
   },
   "outputs": [
    {
     "name": "stdout",
     "output_type": "stream",
     "text": [
      "Gridsearch took 413.047 secs to run on 2000 samples\n",
      "Best accuracy is 0.692\n",
      "Best estimator :\n",
      "KNeighborsClassifier(algorithm='auto', leaf_size=30, metric='minkowski',\n",
      "           metric_params=None, n_jobs=-1, n_neighbors=2, p=2,\n",
      "           weights='distance')\n"
     ]
    }
   ],
   "source": [
    "knn_1h_gs, knn_1h_gs_best_acc = get_best_model(knn_1h, gridsearch_matrix_1_hot, y, param_dict_1h_KNN, crossval)"
   ]
  },
  {
   "cell_type": "markdown",
   "metadata": {},
   "source": [
    "### Train and test best estimator"
   ]
  },
  {
   "cell_type": "code",
   "execution_count": 33,
   "metadata": {},
   "outputs": [
    {
     "name": "stdout",
     "output_type": "stream",
     "text": [
      "Training took 180.361 seconds\n",
      "Using 10000 samples, this model got accuracy 0.7125\n"
     ]
    }
   ],
   "source": [
    "best_knn_1h, best_knn_1h_acc = train_test_model(knn_1h_gs.best_estimator_, X_train, y_train, X_test, y_test)"
   ]
  },
  {
   "cell_type": "markdown",
   "metadata": {},
   "source": [
    "## SVM : SVC"
   ]
  },
  {
   "cell_type": "markdown",
   "metadata": {},
   "source": [
    "### Setting up"
   ]
  },
  {
   "cell_type": "code",
   "execution_count": 34,
   "metadata": {
    "collapsed": true
   },
   "outputs": [],
   "source": [
    "# Set up SVM\n",
    "svm_1h = sk.svm.SVC(C=1.0, kernel='rbf', degree=3, gamma='auto', coef0=0.0, shrinking=True, \n",
    "                       probability=False, tol=0.001, cache_size=200, class_weight=None, verbose=False, \n",
    "                       max_iter=-1, decision_function_shape='ovr', random_state=None)\n",
    "\n",
    "# Set up Gridsearch\n",
    "C_list =[10**(1-i) for i in range(4)]\n",
    "kernel_list =['linear','rbf','sigmoid','poly']\n",
    "param_dict_1h_SVM = {'C':C_list, 'kernel':kernel_list}"
   ]
  },
  {
   "cell_type": "markdown",
   "metadata": {},
   "source": [
    "### Run Gridsearch"
   ]
  },
  {
   "cell_type": "code",
   "execution_count": 35,
   "metadata": {
    "scrolled": false
   },
   "outputs": [
    {
     "name": "stdout",
     "output_type": "stream",
     "text": [
      "Gridsearch took 1337.967 secs to run on 2000 samples\n",
      "Best accuracy is 0.7945\n",
      "Best estimator :\n",
      "SVC(C=0.1, cache_size=200, class_weight=None, coef0=0.0,\n",
      "  decision_function_shape='ovr', degree=3, gamma='auto', kernel='linear',\n",
      "  max_iter=-1, probability=False, random_state=None, shrinking=True,\n",
      "  tol=0.001, verbose=False)\n"
     ]
    }
   ],
   "source": [
    "svm_1h_gs, svm_1h_gs_best_acc = get_best_model(svm_1h, gridsearch_matrix_1_hot, y, param_dict_1h_SVM, crossval)"
   ]
  },
  {
   "cell_type": "markdown",
   "metadata": {},
   "source": [
    "### Train and test best estimator"
   ]
  },
  {
   "cell_type": "code",
   "execution_count": 36,
   "metadata": {
    "scrolled": true
   },
   "outputs": [
    {
     "name": "stdout",
     "output_type": "stream",
     "text": [
      "Training took 821.970 seconds\n",
      "Using 10000 samples, this model got accuracy 0.8355\n"
     ]
    }
   ],
   "source": [
    "best_svm_1h, best_svm_1h_acc = train_test_model(svm_1h_gs.best_estimator_, X_train, y_train, X_test, y_test)"
   ]
  },
  {
   "cell_type": "markdown",
   "metadata": {},
   "source": [
    "## SVM : LinearSVC"
   ]
  },
  {
   "cell_type": "markdown",
   "metadata": {},
   "source": [
    "### Setting up"
   ]
  },
  {
   "cell_type": "code",
   "execution_count": 37,
   "metadata": {
    "collapsed": true
   },
   "outputs": [],
   "source": [
    "# Set up LSVC\n",
    "lsvm_1h = sk.svm.LinearSVC(penalty='l2', loss='squared_hinge', dual=True, tol=0.0001, C=1.0, \n",
    "                              multi_class='ovr', fit_intercept=True, intercept_scaling=1, class_weight=None, \n",
    "                              verbose=0, random_state=None, max_iter=1000)\n",
    "\n",
    "# Set up Gridsearch\n",
    "C_list = [10**(1-i) for i in range(4)]\n",
    "loss_list = ['hinge', 'squared_hinge']\n",
    "tol_list = [10**(1-i) for i in range(5)]\n",
    "param_dict_1h_LSVM = {'C':C_list, 'loss':loss_list, 'tol':tol_list}"
   ]
  },
  {
   "cell_type": "markdown",
   "metadata": {},
   "source": [
    "### Run Gridsearch"
   ]
  },
  {
   "cell_type": "code",
   "execution_count": 38,
   "metadata": {
    "scrolled": true
   },
   "outputs": [
    {
     "name": "stdout",
     "output_type": "stream",
     "text": [
      "Gridsearch took 78.975 secs to run on 2000 samples\n",
      "Best accuracy is 0.8025\n",
      "Best estimator :\n",
      "LinearSVC(C=0.1, class_weight=None, dual=True, fit_intercept=True,\n",
      "     intercept_scaling=1, loss='squared_hinge', max_iter=1000,\n",
      "     multi_class='ovr', penalty='l2', random_state=None, tol=0.01,\n",
      "     verbose=0)\n"
     ]
    }
   ],
   "source": [
    "lsvm_1h_gs, lsvm_1h_gs_best_acc = get_best_model(lsvm_1h, gridsearch_matrix_1_hot, y, param_dict_1h_LSVM, crossval)"
   ]
  },
  {
   "cell_type": "markdown",
   "metadata": {},
   "source": [
    "### Train and test best estimator"
   ]
  },
  {
   "cell_type": "code",
   "execution_count": 39,
   "metadata": {
    "scrolled": true
   },
   "outputs": [
    {
     "name": "stdout",
     "output_type": "stream",
     "text": [
      "Training took 1.227 seconds\n",
      "Using 10000 samples, this model got accuracy 0.8455\n"
     ]
    }
   ],
   "source": [
    "best_lsvm_1h, best_lsvm_1h_acc = train_test_model(lsvm_1h_gs.best_estimator_, X_train, y_train, X_test, y_test)"
   ]
  },
  {
   "cell_type": "markdown",
   "metadata": {},
   "source": [
    "# Different methods for NLP : word2vec for SVM and K Nearsest Neighbors "
   ]
  },
  {
   "cell_type": "markdown",
   "metadata": {},
   "source": [
    "### Set up data for w2v"
   ]
  },
  {
   "cell_type": "code",
   "execution_count": 40,
   "metadata": {
    "collapsed": true
   },
   "outputs": [],
   "source": [
    "# Creates a list of (list of words in the tweet) for each tweet\n",
    "# This is the dataset on which to train the word2vec embeddings\n",
    "sentences = [[word for word in tweets['Tweet'].iloc[i].split(' ')] for i in range(tweets['Tweet'].size)]"
   ]
  },
  {
   "cell_type": "code",
   "execution_count": 41,
   "metadata": {
    "collapsed": true
   },
   "outputs": [],
   "source": [
    "# Save filenames\n",
    "fname2 = 'word2vecweightsWithInitialization'\n",
    "fname = 'word2vecweights'\n",
    "\n",
    "# Train initial word2vec model\n",
    "# This will initialize word2vec embeddings on an existing corpus of lots of english words\n",
    "# Train word2vec on twitter data (should extend the previous word2vec trained embeddings, if they exist)\n",
    "model = word2vec.Word2Vec(sentences, min_count=1)\n",
    "# SAVE WEIGHTS\n",
    "model.save(fname)\n",
    "\n",
    "# Load weights (saves time)\n",
    "#model = Word2Vec.load(fname)"
   ]
  },
  {
   "cell_type": "code",
   "execution_count": 42,
   "metadata": {},
   "outputs": [
    {
     "name": "stdout",
     "output_type": "stream",
     "text": [
      "Words most similar to Trump according to w2v :\n",
      "[('trumps', 0.8399397134780884), ('gop', 0.6975942850112915), ('sanders', 0.673564612865448)]\n",
      "Similarity between \"Trump\" and \"Putin\" : 0.6049196002186679\n",
      "Similarity between \"Trump\" and \"foot\" : 0.20080537523802514\n"
     ]
    }
   ],
   "source": [
    "#print(len(model.wv['trump']))\n",
    "print('Words most similar to Trump according to w2v :\\n{}'.format(model.wv.most_similar(positive=['trump'])[:3]))\n",
    "print('Similarity between \"Trump\" and \"Putin\" : {}'.format(model.wv.similarity('trump','putin')))\n",
    "print('Similarity between \"Trump\" and \"foot\" : {}'.format(model.wv.similarity('trump','foot')))"
   ]
  },
  {
   "cell_type": "code",
   "execution_count": 43,
   "metadata": {
    "collapsed": true
   },
   "outputs": [],
   "source": [
    "# Helper functions for computing tweet embeddings using word2vec, using simple averages and tfidf-weightings\n",
    "\n",
    "def create_tfidf(data):\n",
    "    # Number of tweets\n",
    "    N = data.size\n",
    "    # List of unique words\n",
    "    tweets_list = [[word for word in tweet.split(' ')] for tweet in data]\n",
    "    # De-nests the above list and makes a set from it\n",
    "    unique_words = set(chain.from_iterable(tweets_list))\n",
    "    \n",
    "    # Create the idf dictionary\n",
    "    tfidf_dict = {}\n",
    "    for word in unique_words:\n",
    "        count=1\n",
    "        for tweet in tweets_list:\n",
    "            if word in tweet:\n",
    "                count+=1\n",
    "        tfidf_dict[word]=np.log(N/float(count))\n",
    "    return tfidf_dict\n",
    "    \n",
    "def tfidf(word, entry, tfidf_dict, mos_freq):\n",
    "    # Uses augmented frequency\n",
    "    entry = entry.split(' ')\n",
    "    idf = tfidf_dict[word]\n",
    "    # Augmented frequency formula: compares the number of uses of a word in a tweet to\n",
    "    # The number of uses of the most frequent word in that tweet\n",
    "    tf = .5+.5*(entry.count(word))/float(entry.count(mos_freq))\n",
    "    return tf*idf\n",
    "    \n",
    "\n",
    "def create_word2vec(num_rows, cols, method):\n",
    "    # For now use only tweets\n",
    "    result = tweets[cols][:num_rows].copy()    \n",
    "    # Create word2vec dataframe :\n",
    "    start = time.time()\n",
    "    # For each tweet in the dataframe, choose which weighting to take of the word2vec word embeddings as the tweet embedding\n",
    "    temp = -1\n",
    "    if method=='avg':\n",
    "        # One vector per tweet, average of the word2vec emeddings of the word it contains\n",
    "        temp = np.array([np.average([model.wv[word] for word in entry.split(' ')], axis=0) for entry in result])\n",
    "    elif method=='tfidf':\n",
    "        # Tracks document frequency of each word (measure of the occurrence of a word in each tweet in the dataset)\n",
    "        tfidf_dict = create_tfidf(result)\n",
    "        # One vector per tweet, tfidf-weighted average of the word2vec emeddings of the word it contains\n",
    "        temp = np.array([np.average([model.wv[word]*tfidf(word,entry,tfidf_dict, Counter(entry.split(' ')).most_common(1)[0][0]) for word in entry.split(' ')], axis=0) for entry in result])\n",
    "    result = temp\n",
    "    print('Took {:.3f} secs to create word2vec_{} matrix'.format(time.time()-start,method))\n",
    "    return result"
   ]
  },
  {
   "cell_type": "markdown",
   "metadata": {},
   "source": [
    "### Set up matrices"
   ]
  },
  {
   "cell_type": "code",
   "execution_count": 44,
   "metadata": {},
   "outputs": [
    {
     "name": "stdout",
     "output_type": "stream",
     "text": [
      "Took 0.387 secs to create word2vec_avg matrix\n",
      "Took 1.614 secs to create word2vec_avg matrix\n",
      "Took 6.055 secs to create word2vec_tfidf matrix\n",
      "Took 51.115 secs to create word2vec_tfidf matrix\n"
     ]
    }
   ],
   "source": [
    "gridsearch_matrix_word2vec_avg, y_gs_w2v_avg, X_train_avg, y_train_avg, X_test_avg, y_test_avg = make_matrices(size_grid, size_best_est, 'w2v_avg')\n",
    "gridsearch_matrix_word2vec_tfidf, y_gs_w2v_tfidf, X_train_tfidf, y_train_tfidf, X_test_tfidf, y_test_tfidf = make_matrices(size_grid, size_best_est, 'w2v_tfidf')\n"
   ]
  },
  {
   "cell_type": "markdown",
   "metadata": {},
   "source": [
    "## KNN"
   ]
  },
  {
   "cell_type": "markdown",
   "metadata": {},
   "source": [
    "### Setting up"
   ]
  },
  {
   "cell_type": "code",
   "execution_count": 90,
   "metadata": {
    "collapsed": true
   },
   "outputs": [],
   "source": [
    "# Set up knn\n",
    "knn_w2v_avg = sk.neighbors.KNeighborsClassifier(n_jobs=-1)\n",
    "knn_w2v_tfidf = sk.neighbors.KNeighborsClassifier(n_jobs=-1)\n",
    "\n",
    "# Number of nearest neighbors to consider\n",
    "n_neighbors_list = [i+2 for i in range(14)]\n",
    "\n",
    "# Weighting of neighbors, whether they all get an equal vote or are weighted by distance\n",
    "weights_list = ['uniform','distance']\n",
    "param_dict_w2v_KNN = {'n_neighbors':n_neighbors_list,'weights':weights_list}"
   ]
  },
  {
   "cell_type": "markdown",
   "metadata": {},
   "source": [
    "### Run Gridsearch"
   ]
  },
  {
   "cell_type": "code",
   "execution_count": 91,
   "metadata": {},
   "outputs": [
    {
     "name": "stdout",
     "output_type": "stream",
     "text": [
      "Running gridsearch with w2v_avg :\n",
      "Gridsearch took 119.963 secs to run on 5000 samples\n",
      "Best accuracy is 0.8456\n",
      "Best estimator :\n",
      "KNeighborsClassifier(algorithm='auto', leaf_size=30, metric='minkowski',\n",
      "           metric_params=None, n_jobs=-1, n_neighbors=15, p=2,\n",
      "           weights='distance')\n"
     ]
    }
   ],
   "source": [
    "print('Running gridsearch with w2v_avg :')\n",
    "knn_w2v_avg_gs, knn_w2v_avg_gs_best_acc = get_best_model(knn_w2v_avg, gridsearch_matrix_word2vec_avg, \n",
    "                                                         y_gs_w2v_avg, param_dict_w2v_KNN, \n",
    "                                                         crossval)"
   ]
  },
  {
   "cell_type": "code",
   "execution_count": 92,
   "metadata": {},
   "outputs": [
    {
     "name": "stdout",
     "output_type": "stream",
     "text": [
      "Running gridsearch with w2v_tfidf :\n",
      "Gridsearch took 117.684 secs to run on 5000 samples\n",
      "Best accuracy is 0.8456\n",
      "Best estimator :\n",
      "KNeighborsClassifier(algorithm='auto', leaf_size=30, metric='minkowski',\n",
      "           metric_params=None, n_jobs=-1, n_neighbors=15, p=2,\n",
      "           weights='distance')\n"
     ]
    }
   ],
   "source": [
    "print('Running gridsearch with w2v_tfidf :')\n",
    "knn_w2v_tfidf_gs, knn_w2v_tfidf_gs_best_acc = get_best_model(knn_w2v_tfidf, gridsearch_matrix_word2vec_tfidf,\n",
    "                                                             y_gs_w2v_tfidf, param_dict_w2v_KNN,\n",
    "                                                             crossval)"
   ]
  },
  {
   "cell_type": "markdown",
   "metadata": {},
   "source": [
    "### Train and test best estimator"
   ]
  },
  {
   "cell_type": "code",
   "execution_count": 93,
   "metadata": {
    "scrolled": true
   },
   "outputs": [
    {
     "name": "stdout",
     "output_type": "stream",
     "text": [
      "Running best model with w2v_avg :\n",
      "Training took 38.283 seconds\n",
      "Using 50000 samples, this model got accuracy 0.8651\n"
     ]
    }
   ],
   "source": [
    "print('Running best model with w2v_avg :')\n",
    "best_knn_w2v_avg, best_knn_w2v_avg_acc = train_test_model(knn_w2v_avg_gs.best_estimator_, X_train_avg, \n",
    "                                                          y_train_avg, X_test_avg, y_test_avg)"
   ]
  },
  {
   "cell_type": "code",
   "execution_count": 94,
   "metadata": {},
   "outputs": [
    {
     "name": "stdout",
     "output_type": "stream",
     "text": [
      "Running best model with w2v_tfidf :\n",
      "Training took 47.976 seconds\n",
      "Using 50000 samples, this model got accuracy 0.8734\n"
     ]
    }
   ],
   "source": [
    "print('Running best model with w2v_tfidf :')\n",
    "best_knn_w2v_tfidf, best_knn_w2v_tfidf_acc = train_test_model(knn_w2v_tfidf_gs.best_estimator_, X_train_tfidf, \n",
    "                                                              y_train_tfidf, X_test_tfidf, y_test_tfidf)"
   ]
  },
  {
   "cell_type": "markdown",
   "metadata": {},
   "source": [
    "## SVM : SVC"
   ]
  },
  {
   "cell_type": "markdown",
   "metadata": {},
   "source": [
    "### Setting up"
   ]
  },
  {
   "cell_type": "code",
   "execution_count": 125,
   "metadata": {
    "collapsed": true
   },
   "outputs": [],
   "source": [
    "# Set up SVM\n",
    "svm_w2v_avg = sk.svm.SVC(C=1.0, kernel='rbf', degree=3, gamma='auto', coef0=0.0, shrinking=True, \n",
    "                       probability=False, tol=0.001, cache_size=200, class_weight=None, verbose=False, \n",
    "                       max_iter=-1, decision_function_shape='ovr', random_state=None)\n",
    "svm_w2v_tfidf = sk.svm.SVC(C=1.0, kernel='rbf', degree=3, gamma='auto', coef0=0.0, shrinking=True, \n",
    "                       probability=False, tol=0.001, cache_size=200, class_weight=None, verbose=False, \n",
    "                       max_iter=-1, decision_function_shape='ovr', random_state=None)\n",
    "\n",
    "# Set up Gridsearch\n",
    "C_list =[1000**(1-i) for i in range(6)]\n",
    "kernel_list =['linear','rbf','sigmoid','poly']\n",
    "param_dict_w2v_SVM = {'C':C_list, 'kernel':kernel_list}"
   ]
  },
  {
   "cell_type": "markdown",
   "metadata": {},
   "source": [
    "### Run Gridsearch"
   ]
  },
  {
   "cell_type": "code",
   "execution_count": 110,
   "metadata": {},
   "outputs": [
    {
     "name": "stdout",
     "output_type": "stream",
     "text": [
      "Running gridsearch with w2v_avg :\n",
      "Gridsearch took 2224.504 secs to run on 5000 samples\n",
      "Best accuracy is 0.8526\n",
      "Best estimator :\n",
      "SVC(C=1, cache_size=200, class_weight=None, coef0=0.0,\n",
      "  decision_function_shape='ovr', degree=3, gamma='auto', kernel='rbf',\n",
      "  max_iter=-1, probability=False, random_state=None, shrinking=True,\n",
      "  tol=0.001, verbose=False)\n"
     ]
    }
   ],
   "source": [
    "print('Running gridsearch with w2v_avg :')\n",
    "svm_w2v_avg_gs, svm_w2v_avg_gs_best_acc = get_best_model(svm_w2v_avg, gridsearch_matrix_word2vec_avg, \n",
    "                                                         y_gs_w2v_avg, param_dict_w2v_SVM, \n",
    "                                                         crossval)"
   ]
  },
  {
   "cell_type": "code",
   "execution_count": 87,
   "metadata": {},
   "outputs": [
    {
     "name": "stdout",
     "output_type": "stream",
     "text": [
      "Running gridsearch with w2v_tfidf :\n",
      "Gridsearch took 382.645 secs to run on 5000 samples\n",
      "Best accuracy is 0.8478\n",
      "Best estimator :\n",
      "SVC(C=1, cache_size=200, class_weight=None, coef0=0.0,\n",
      "  decision_function_shape='ovr', degree=3, gamma='auto', kernel='rbf',\n",
      "  max_iter=-1, probability=False, random_state=None, shrinking=True,\n",
      "  tol=0.001, verbose=False)\n"
     ]
    }
   ],
   "source": [
    "print('Running gridsearch with w2v_tfidf :')\n",
    "svm_w2v_tfidf_gs, svm_w2v_tfidf_gs_best_acc = get_best_model(svm_w2v_tfidf, gridsearch_matrix_word2vec_tfidf,\n",
    "                                                             y_gs_w2v_tfidf, param_dict_w2v_SVM,\n",
    "                                                             crossval)"
   ]
  },
  {
   "cell_type": "markdown",
   "metadata": {},
   "source": [
    "### Train and test best estimator"
   ]
  },
  {
   "cell_type": "code",
   "execution_count": 111,
   "metadata": {
    "scrolled": true
   },
   "outputs": [
    {
     "name": "stdout",
     "output_type": "stream",
     "text": [
      "Running best model with w2v_avg :\n",
      "Training took 294.098 seconds\n",
      "Using 50000 samples, this model got accuracy 0.8696\n"
     ]
    }
   ],
   "source": [
    "print('Running best model with w2v_avg :')\n",
    "best_svm_w2v_avg, best_svm_w2v_avg_acc = train_test_model(svm_w2v_avg_gs.best_estimator_, X_train_avg, \n",
    "                                                          y_train_avg, X_test_avg, y_test_avg)"
   ]
  },
  {
   "cell_type": "code",
   "execution_count": 89,
   "metadata": {},
   "outputs": [
    {
     "name": "stdout",
     "output_type": "stream",
     "text": [
      "Running best model with w2v_tfidf :\n",
      "Training took 554.922 seconds\n",
      "Using 50000 samples, this model got accuracy 0.8807\n"
     ]
    }
   ],
   "source": [
    "print('Running best model with w2v_tfidf :')\n",
    "best_svm_w2v_tfidf, best_svm_w2v_tfidf_acc = train_test_model(svm_w2v_tfidf_gs.best_estimator_, X_train_tfidf, \n",
    "                                                              y_train_tfidf, X_test_tfidf, y_test_tfidf)"
   ]
  },
  {
   "cell_type": "markdown",
   "metadata": {},
   "source": [
    "## SVM : LinearSVC"
   ]
  },
  {
   "cell_type": "markdown",
   "metadata": {},
   "source": [
    "### Setting up"
   ]
  },
  {
   "cell_type": "code",
   "execution_count": 69,
   "metadata": {
    "collapsed": true
   },
   "outputs": [],
   "source": [
    "# Set up SVM\n",
    "lsvm_w2v_avg = sk.svm.LinearSVC(penalty='l2', loss='squared_hinge', dual=True, tol=0.0001, C=1.0, \n",
    "                                multi_class='ovr', fit_intercept=True, intercept_scaling=1, \n",
    "                                class_weight=None, verbose=0, random_state=None, max_iter=1000)\n",
    "lsvm_w2v_tfidf = sk.svm.LinearSVC(penalty='l2', loss='squared_hinge', dual=True, tol=0.0001, C=1.0, \n",
    "                                  multi_class='ovr', fit_intercept=True, intercept_scaling=1, \n",
    "                                  class_weight=None, verbose=0, random_state=None, max_iter=1000)\n",
    "\n",
    "# Set up Gridsearch\n",
    "C_list = [10**(1-i) for i in range(4)]\n",
    "loss_list = ['hinge', 'squared_hinge']\n",
    "tol_list = [10**(1-i) for i in range(5)]\n",
    "param_dict_w2v_LSVM = {'C':C_list, 'loss':loss_list, 'tol':tol_list}"
   ]
  },
  {
   "cell_type": "markdown",
   "metadata": {},
   "source": [
    "### Run Gridsearch"
   ]
  },
  {
   "cell_type": "code",
   "execution_count": 70,
   "metadata": {},
   "outputs": [
    {
     "name": "stdout",
     "output_type": "stream",
     "text": [
      "Running gridsearch with w2v_avg :\n",
      "Gridsearch took 35.644 secs to run on 5000 samples\n",
      "Best accuracy is 0.844\n",
      "Best estimator :\n",
      "LinearSVC(C=0.1, class_weight=None, dual=True, fit_intercept=True,\n",
      "     intercept_scaling=1, loss='hinge', max_iter=1000, multi_class='ovr',\n",
      "     penalty='l2', random_state=None, tol=0.01, verbose=0)\n"
     ]
    }
   ],
   "source": [
    "print('Running gridsearch with w2v_avg :')\n",
    "lsvm_w2v_avg_gs, lsvm_w2v_avg_gs_best_acc = get_best_model(lsvm_w2v_avg, gridsearch_matrix_word2vec_avg, \n",
    "                                                         y_gs_w2v_avg, \n",
    "                                                         param_dict_w2v_LSVM, crossval)"
   ]
  },
  {
   "cell_type": "code",
   "execution_count": 71,
   "metadata": {},
   "outputs": [
    {
     "name": "stdout",
     "output_type": "stream",
     "text": [
      "Running gridsearch with w2v_tfidf :\n",
      "Gridsearch took 72.363 secs to run on 5000 samples\n",
      "Best accuracy is 0.8402\n",
      "Best estimator :\n",
      "LinearSVC(C=0.01, class_weight=None, dual=True, fit_intercept=True,\n",
      "     intercept_scaling=1, loss='hinge', max_iter=1000, multi_class='ovr',\n",
      "     penalty='l2', random_state=None, tol=0.001, verbose=0)\n"
     ]
    }
   ],
   "source": [
    "print('Running gridsearch with w2v_tfidf :')\n",
    "lsvm_w2v_tfidf_gs, lsvm_w2v_tfidf_gs_best_acc = get_best_model(lsvm_w2v_tfidf, gridsearch_matrix_word2vec_tfidf,\n",
    "                                                             y_gs_w2v_tfidf, \n",
    "                                                             param_dict_w2v_LSVM, crossval)"
   ]
  },
  {
   "cell_type": "markdown",
   "metadata": {},
   "source": [
    "### Train and test best estimator"
   ]
  },
  {
   "cell_type": "code",
   "execution_count": 72,
   "metadata": {
    "scrolled": true
   },
   "outputs": [
    {
     "name": "stdout",
     "output_type": "stream",
     "text": [
      "Running best model with w2v_avg :\n",
      "Training took 0.998 seconds\n",
      "Using 50000 samples, this model got accuracy 0.8521\n"
     ]
    }
   ],
   "source": [
    "print('Running best model with w2v_avg :')\n",
    "best_lsvm_w2v_avg, best_lsvm_w2v_avg_acc = train_test_model(lsvm_w2v_avg_gs.best_estimator_, X_train_avg, \n",
    "                                                          y_train_avg, X_test_avg, y_test_avg)"
   ]
  },
  {
   "cell_type": "code",
   "execution_count": 73,
   "metadata": {},
   "outputs": [
    {
     "name": "stdout",
     "output_type": "stream",
     "text": [
      "Running best model with w2v_tfidf :\n",
      "Training took 1.155 seconds\n",
      "Using 50000 samples, this model got accuracy 0.8537\n"
     ]
    }
   ],
   "source": [
    "print('Running best model with w2v_tfidf :')\n",
    "best_lsvm_w2v_tfidf, best_lsvm_w2v_tfidf_acc = train_test_model(lsvm_w2v_tfidf_gs.best_estimator_, X_train_tfidf, \n",
    "                                                              y_train_tfidf, X_test_tfidf, y_test_tfidf)"
   ]
  },
  {
   "cell_type": "code",
   "execution_count": 75,
   "metadata": {},
   "outputs": [
    {
     "name": "stdout",
     "output_type": "stream",
     "text": [
      "Time to run everything : 6702.214 secs\n"
     ]
    }
   ],
   "source": [
    "print('Time to run everything : {:.3f} secs'.format(time.time() - all_start))\n",
    "# 500, 1000 : 177 sec\n",
    "# 500, 5k : 718 sec\n",
    "# 1k, 10k : 1838.206 sec\n",
    "# 2k, 10k : 3498.029 sec"
   ]
  },
  {
   "cell_type": "markdown",
   "metadata": {},
   "source": [
    "# Results"
   ]
  },
  {
   "cell_type": "code",
   "execution_count": 112,
   "metadata": {
    "collapsed": true
   },
   "outputs": [],
   "source": [
    "def plot_gridsearch(model, param_dict, name='model', metric='mean_test_score', save=True):\n",
    "    params = []\n",
    "    keys = []\n",
    "    for key in param_dict:\n",
    "        params.append(param_dict[key])\n",
    "        keys.append(key)\n",
    "    scores = model.cv_results_[metric].reshape(len(params[0]), len(params[1]))\n",
    "    df = pd.DataFrame(scores, index=params[0], columns=params[1])\n",
    "    ax = sns.heatmap(df, annot=True, cmap=\"OrRd\")\n",
    "    ax.collections[0].colorbar.set_label(metric)\n",
    "    ax.set(xlabel = keys[1], ylabel=keys[0])\n",
    "    plt.title('Gridsearch results for {}'.format(name))\n",
    "    if save:\n",
    "        plt.savefig('Gridsearch_{}'.format(name), bbox_inches='tight', dpi=200)\n",
    "    plt.show()"
   ]
  },
  {
   "cell_type": "code",
   "execution_count": 113,
   "metadata": {
    "collapsed": true
   },
   "outputs": [],
   "source": [
    "def plot_best_words(model, cols, model_name, save=True):\n",
    "    importance = sorted(zip(model.coef_[0], cols), reverse = True)\n",
    "    to_plot = importance[:10] + importance[-10:]\n",
    "    df = pd.DataFrame(to_plot, columns = ['Importance in model', 'Word'])\n",
    "    sns.barplot(x='Importance in model', y='Word', data=df, palette=\"RdBu\")\n",
    "    plt.grid(alpha=.2)\n",
    "    plt.title('Least and Most important words for {}'.format(model_name))\n",
    "    if save:\n",
    "        plt.savefig('Best_words_{}'.format(model_name), bbox_inches='tight', dpi=200)\n",
    "    plt.show()"
   ]
  },
  {
   "cell_type": "code",
   "execution_count": 114,
   "metadata": {},
   "outputs": [
    {
     "data": {
      "image/png": "[encoded data removed]",
      "text/plain": [
       "<matplotlib.figure.Figure at 0x14f82ec18>"
      ]
     },
     "metadata": {},
     "output_type": "display_data"
    },
    {
     "data": {
      "image/png": "[encoded data removed]",
      "text/plain": [
       "<matplotlib.figure.Figure at 0x13c756438>"
      ]
     },
     "metadata": {},
     "output_type": "display_data"
    }
   ],
   "source": [
    "plot_gridsearch(knn_1h_gs, param_dict_1h_KNN, name='KNN with 1 hot encoding')\n",
    "plot_gridsearch(svm_1h_gs, param_dict_1h_SVM, name='SVM with 1 hot encoding')"
   ]
  },
  {
   "cell_type": "code",
   "execution_count": 126,
   "metadata": {},
   "outputs": [
    {
     "data": {
      "image/png": "[encoded data removed]",
      "text/plain": [
       "<matplotlib.figure.Figure at 0x12835a518>"
      ]
     },
     "metadata": {},
     "output_type": "display_data"
    },
    {
     "data": {
      "image/png": "[encoded data removed]",
      "text/plain": [
       "<matplotlib.figure.Figure at 0x13d942d30>"
      ]
     },
     "metadata": {},
     "output_type": "display_data"
    },
    {
     "ename": "ValueError",
     "evalue": "cannot reshape array of size 16 into shape (6,4)",
     "output_type": "error",
     "traceback": [
      "\u001b[0;31m---------------------------------------------------------------------------\u001b[0m",
      "\u001b[0;31mValueError\u001b[0m                                Traceback (most recent call last)",
      "\u001b[0;32m<ipython-input-126-94e767f995d3>\u001b[0m in \u001b[0;36m<module>\u001b[0;34m()\u001b[0m\n\u001b[1;32m      2\u001b[0m \u001b[0mplot_gridsearch\u001b[0m\u001b[0;34m(\u001b[0m\u001b[0mknn_w2v_tfidf_gs\u001b[0m\u001b[0;34m,\u001b[0m \u001b[0mparam_dict_w2v_KNN\u001b[0m\u001b[0;34m,\u001b[0m \u001b[0mname\u001b[0m\u001b[0;34m=\u001b[0m\u001b[0;34m'KNN with w2v tfidf'\u001b[0m\u001b[0;34m)\u001b[0m\u001b[0;34m\u001b[0m\u001b[0m\n\u001b[1;32m      3\u001b[0m \u001b[0;31m#plot_gridsearch(svm_w2v_avg_gs, param_dict_w2v_SVM, name='SVM with w2v avg')\u001b[0m\u001b[0;34m\u001b[0m\u001b[0;34m\u001b[0m\u001b[0m\n\u001b[0;32m----> 4\u001b[0;31m \u001b[0mplot_gridsearch\u001b[0m\u001b[0;34m(\u001b[0m\u001b[0msvm_w2v_tfidf_gs\u001b[0m\u001b[0;34m,\u001b[0m \u001b[0mparam_dict_w2v_SVM\u001b[0m\u001b[0;34m,\u001b[0m \u001b[0mname\u001b[0m\u001b[0;34m=\u001b[0m\u001b[0;34m'SVM with w2v tfidf'\u001b[0m\u001b[0;34m)\u001b[0m\u001b[0;34m\u001b[0m\u001b[0m\n\u001b[0m",
      "\u001b[0;32m<ipython-input-112-8725309b19d9>\u001b[0m in \u001b[0;36mplot_gridsearch\u001b[0;34m(model, param_dict, name, metric, save)\u001b[0m\n\u001b[1;32m      5\u001b[0m         \u001b[0mparams\u001b[0m\u001b[0;34m.\u001b[0m\u001b[0mappend\u001b[0m\u001b[0;34m(\u001b[0m\u001b[0mparam_dict\u001b[0m\u001b[0;34m[\u001b[0m\u001b[0mkey\u001b[0m\u001b[0;34m]\u001b[0m\u001b[0;34m)\u001b[0m\u001b[0;34m\u001b[0m\u001b[0m\n\u001b[1;32m      6\u001b[0m         \u001b[0mkeys\u001b[0m\u001b[0;34m.\u001b[0m\u001b[0mappend\u001b[0m\u001b[0;34m(\u001b[0m\u001b[0mkey\u001b[0m\u001b[0;34m)\u001b[0m\u001b[0;34m\u001b[0m\u001b[0m\n\u001b[0;32m----> 7\u001b[0;31m     \u001b[0mscores\u001b[0m \u001b[0;34m=\u001b[0m \u001b[0mmodel\u001b[0m\u001b[0;34m.\u001b[0m\u001b[0mcv_results_\u001b[0m\u001b[0;34m[\u001b[0m\u001b[0mmetric\u001b[0m\u001b[0;34m]\u001b[0m\u001b[0;34m.\u001b[0m\u001b[0mreshape\u001b[0m\u001b[0;34m(\u001b[0m\u001b[0mlen\u001b[0m\u001b[0;34m(\u001b[0m\u001b[0mparams\u001b[0m\u001b[0;34m[\u001b[0m\u001b[0;36m0\u001b[0m\u001b[0;34m]\u001b[0m\u001b[0;34m)\u001b[0m\u001b[0;34m,\u001b[0m \u001b[0mlen\u001b[0m\u001b[0;34m(\u001b[0m\u001b[0mparams\u001b[0m\u001b[0;34m[\u001b[0m\u001b[0;36m1\u001b[0m\u001b[0;34m]\u001b[0m\u001b[0;34m)\u001b[0m\u001b[0;34m)\u001b[0m\u001b[0;34m\u001b[0m\u001b[0m\n\u001b[0m\u001b[1;32m      8\u001b[0m     \u001b[0mdf\u001b[0m \u001b[0;34m=\u001b[0m \u001b[0mpd\u001b[0m\u001b[0;34m.\u001b[0m\u001b[0mDataFrame\u001b[0m\u001b[0;34m(\u001b[0m\u001b[0mscores\u001b[0m\u001b[0;34m,\u001b[0m \u001b[0mindex\u001b[0m\u001b[0;34m=\u001b[0m\u001b[0mparams\u001b[0m\u001b[0;34m[\u001b[0m\u001b[0;36m0\u001b[0m\u001b[0;34m]\u001b[0m\u001b[0;34m,\u001b[0m \u001b[0mcolumns\u001b[0m\u001b[0;34m=\u001b[0m\u001b[0mparams\u001b[0m\u001b[0;34m[\u001b[0m\u001b[0;36m1\u001b[0m\u001b[0;34m]\u001b[0m\u001b[0;34m)\u001b[0m\u001b[0;34m\u001b[0m\u001b[0m\n\u001b[1;32m      9\u001b[0m     \u001b[0max\u001b[0m \u001b[0;34m=\u001b[0m \u001b[0msns\u001b[0m\u001b[0;34m.\u001b[0m\u001b[0mheatmap\u001b[0m\u001b[0;34m(\u001b[0m\u001b[0mdf\u001b[0m\u001b[0;34m,\u001b[0m \u001b[0mannot\u001b[0m\u001b[0;34m=\u001b[0m\u001b[0;32mTrue\u001b[0m\u001b[0;34m,\u001b[0m \u001b[0mcmap\u001b[0m\u001b[0;34m=\u001b[0m\u001b[0;34m\"OrRd\"\u001b[0m\u001b[0;34m)\u001b[0m\u001b[0;34m\u001b[0m\u001b[0m\n",
      "\u001b[0;31mValueError\u001b[0m: cannot reshape array of size 16 into shape (6,4)"
     ]
    }
   ],
   "source": [
    "plot_gridsearch(knn_w2v_avg_gs, param_dict_w2v_KNN, name='KNN with w2v avg')\n",
    "plot_gridsearch(knn_w2v_tfidf_gs, param_dict_w2v_KNN, name='KNN with w2v tfidf')\n",
    "#plot_gridsearch(svm_w2v_avg_gs, param_dict_w2v_SVM, name='SVM with w2v avg')\n",
    "plot_gridsearch(svm_w2v_tfidf_gs, param_dict_w2v_SVM, name='SVM with w2v tfidf')"
   ]
  },
  {
   "cell_type": "code",
   "execution_count": 117,
   "metadata": {},
   "outputs": [
    {
     "data": {
      "image/png": "[encoded data removed]",
      "text/plain": [
       "<matplotlib.figure.Figure at 0x12e090588>"
      ]
     },
     "metadata": {},
     "output_type": "display_data"
    },
    {
     "data": {
      "image/png": "[encoded data removed]",
      "text/plain": [
       "<matplotlib.figure.Figure at 0x13d875c88>"
      ]
     },
     "metadata": {},
     "output_type": "display_data"
    }
   ],
   "source": [
    "if best_svm_1h.kernel == 'linear':\n",
    "    plot_best_words(best_svm_1h, columns_1_hot, 'SVC')\n",
    "plot_best_words(best_lsvm_1h, columns_1_hot, 'LinearSVC')"
   ]
  },
  {
   "cell_type": "code",
   "execution_count": 118,
   "metadata": {
    "scrolled": false
   },
   "outputs": [
    {
     "data": {
      "image/png": "[encoded data removed]",
      "text/plain": [
       "<matplotlib.figure.Figure at 0x13d95e940>"
      ]
     },
     "metadata": {},
     "output_type": "display_data"
    }
   ],
   "source": [
    "accs = [best_knn_1h_acc, best_svm_1h_acc, best_lsvm_1h_acc, best_knn_w2v_avg_acc, best_knn_w2v_tfidf_acc, \n",
    "        best_svm_w2v_avg_acc, best_svm_w2v_tfidf_acc, best_lsvm_w2v_avg_acc, best_lsvm_w2v_tfidf_acc]\n",
    "lab = ['KNN 1h', 'SVM 1h', 'LSVM 1h', 'KNN w2v avg', \n",
    "       'KNN w2c tfidf', 'SVM w2v avg', 'SVM w2v tfidf', \n",
    "       'LSVM w2v avg', 'LSVM w2v tfidf']\n",
    "df = pd.DataFrame({'Accuracy' : accs, 'Model' : lab})\n",
    "df = df.sort_values('Accuracy')\n",
    "\n",
    "ax = sns.barplot(x = 'Model', y = 'Accuracy', data = df, palette=\"YlOrRd\")\n",
    "ax.set_ylim([0.5, 0.9])\n",
    "ax.spines[\"top\"].set_visible(False)\n",
    "ax.spines[\"right\"].set_visible(False)\n",
    "ax.grid(alpha=.2)\n",
    "ax.set_xticklabels(df['Model'], rotation=30)\n",
    "plt.savefig('Model_accs', bbox_inches='tight', dpi=200)\n",
    "plt.show()\n"
   ]
  },
  {
   "cell_type": "code",
   "execution_count": null,
   "metadata": {},
   "outputs": [],
   "source": [
    "throw 'a party'"
   ]
  }
 ],
 "metadata": {
  "kernelspec": {
   "display_name": "Python 3",
   "language": "python",
   "name": "python3"
  },
  "language_info": {
   "codemirror_mode": {
    "name": "ipython",
    "version": 3
   },
   "file_extension": ".py",
   "mimetype": "text/x-python",
   "name": "python",
   "nbconvert_exporter": "python",
   "pygments_lexer": "ipython3",
   "version": "3.6.2"
  }
 },
 "nbformat": 4,
 "nbformat_minor": 1
}
