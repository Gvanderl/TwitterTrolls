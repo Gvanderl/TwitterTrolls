{
 "cells": [
  {
   "cell_type": "markdown",
   "metadata": {
    "collapsed": true
   },
   "source": [
    "# Final Project for COGS118A, this is meant to find and identify russian 'troll' tweets."
   ]
  },
  {
   "cell_type": "markdown",
   "metadata": {},
   "source": [
    "Group members :\n",
    "- Gael Van der Lee\n",
    "- Alex Labranche"
   ]
  },
  {
   "cell_type": "code",
   "execution_count": 1,
   "metadata": {
    "collapsed": true
   },
   "outputs": [],
   "source": [
    "import pandas as pd\n",
    "import matplotlib as plt"
   ]
  },
  {
   "cell_type": "markdown",
   "metadata": {},
   "source": [
    "# Data gathering and cleaning"
   ]
  },
  {
   "cell_type": "code",
   "execution_count": 13,
   "metadata": {},
   "outputs": [],
   "source": [
    "troll_users = pd.read_csv('users.csv')\n",
    "troll_tweets = pd.read_csv('tweets.csv')\n",
    "normal_tweets = pd.read_csv('dashboard_x_usa_x_filter_nativeretweets.csv')\n"
   ]
  },
  {
   "cell_type": "code",
   "execution_count": 14,
   "metadata": {},
   "outputs": [
    {
     "data": {
      "text/plain": [
       "0         Wind 3.2 mph NNE. Barometer 30.20 in, Rising s...\n",
       "1         Pausa pro café antes de embarcar no próximo vô...\n",
       "2         Good. Morning. #morning #Saturday #diner #VT #...\n",
       "3         @gratefuldead recordstoredayus 🌹🌹🌹 @ TOMS M...\n",
       "4         Egg in a muffin!!! (@ Rocket Baby Bakery - @ro...\n",
       "5         @lyricwaters should've gave the neighbor  a bu...\n",
       "6         On the way to CT! (@ Mamaroneck, NY in Mamaron...\n",
       "7         We're #hiring! Read about our latest #job open...\n",
       "8         Me... @ Montgomery Scrap Corporation https://t...\n",
       "9         BAYADA Home Health Care: Home Health Registere...\n",
       "10        Shift Supervisor Trainee - CVS Health: (#OCEAN...\n",
       "11        #007 #jamesbond #blacktie #redcarpet #vip #gam...\n",
       "12        Although I am not endorsing a candidate, I tho...\n",
       "13        I think spring finally has arrived! (@ Milwauk...\n",
       "14        Want to work in #Burlington, MA? View our late...\n",
       "15        Want to work in #Charlotte, NC? View our lates...\n",
       "16        you'll love this @34jaIIen https://t.co/fL7YNL...\n",
       "17        #Engineering #Job alert: Prod Engr - Software ...\n",
       "18        Can you recommend anyone for this #job? Clinic...\n",
       "19        I'm at @InNOutBurger in Long Beach, CA https:/...\n",
       "20        Don’t think about what can happen in a month. ...\n",
       "21        Vacation here I come !! @ Official JetBlue Ter...\n",
       "22        😊 @ Foro Sol, Mexico D.F. https://t.co/PbAbOV...\n",
       "23        Can you recommend anyone for this #Hospitality...\n",
       "24        We're #hiring! Click to apply: Manager Trainee...\n",
       "25                      I'm at Home https://t.co/fDCP5atErT\n",
       "26        See our latest #Savannah, GA #job and click to...\n",
       "27        Want to work at Macy's Beauty? We're #hiring i...\n",
       "28        Can you recommend anyone for this #job? Regist...\n",
       "29        🍩 is 🔑 @ Jupiter Donuts North Palm https://t...\n",
       "                                ...                        \n",
       "204790    We're #hiring! Click to apply: Registered Nurs...\n",
       "204791    I just finished running 4.92 miles in 43m:47s ...\n",
       "204792    “Summer Registration Bonanza” on Thursday, Apr...\n",
       "204793    Update: Construction on #NY17 WB from Seven La...\n",
       "204794    We're #hiring! Read about our latest #job open...\n",
       "204795    Felt like a tie kind of Thursday! @ Griffin Co...\n",
       "204796                              https://t.co/m4PJhXLD1f\n",
       "204797    Not A Soul Around..\\n#portjeff #portjefferson ...\n",
       "204798    Buttermilk Fried Chicken w/ Collard Greens &am...\n",
       "204799    We're #hiring! Read about our latest #job open...\n",
       "204800    Weather now: few clouds, 59°F, 3 mph east-nort...\n",
       "204801    Wo liegt Philadelphia? https://t.co/AOX91L8SRX...\n",
       "204802    Weather now: light intensity drizzle, 67°F, 7 ...\n",
       "204803    Governor Baker and Mayor Walsh to launch anti-...\n",
       "204804    Flowers along Normandy Blvd where Rebecca Gome...\n",
       "204805    Will Smith shooting: Attorneys spar over detai...\n",
       "204806    Current Conditions: Overcast and 59 F at Longv...\n",
       "204807    #DrugViolation at 335 N Magnolia Ave. #orlpol ...\n",
       "204808    Weather now: clear sky, 46°F, 6 mph west-south...\n",
       "204809    Weather now: clear sky, 40°F, 6 mph east wind....\n",
       "204810    Weather now: scattered clouds, 38°F, 8 mph nor...\n",
       "204811    Current Conditions: Light Rain and 58 F at Tyl...\n",
       "204812    A Vigil will be held for Father Rene Robert to...\n",
       "204813    E-cigarette explodes at mall kiosk, leaving te...\n",
       "204814    Weather now: clear sky, 35°F, 2 mph southeast ...\n",
       "204815    to congratulate Stephen Curry, who shot the Go...\n",
       "204816    #CriminalMischief at 6020-6299 Balboa Dr, Pine...\n",
       "204817    Wind 5.0 mph S. Barometer 30.006 in, Rising. T...\n",
       "204818    Please believe it 🙌🏿🙌🏿🙌🏿🙌🏿 @ Clothes &...\n",
       "204819                              https://t.co/HHjUVfeIZ1\n",
       "Name: Tweet content, Length: 204820, dtype: object"
      ]
     },
     "execution_count": 14,
     "metadata": {},
     "output_type": "execute_result"
    }
   ],
   "source": [
    "normal_tweets['Tweet content']"
   ]
  },
  {
   "cell_type": "code",
   "execution_count": 17,
   "metadata": {},
   "outputs": [
    {
     "data": {
      "text/plain": [
       "0         Wind 3.2 mph NNE. Barometer 30.20 in, Rising s...\n",
       "1         Pausa pro café antes de embarcar no próximo vô...\n",
       "2         Good. Morning. #morning #Saturday #diner #VT #...\n",
       "3         @gratefuldead recordstoredayus 🌹🌹🌹 @ TOMS M...\n",
       "4         Egg in a muffin!!! (@ Rocket Baby Bakery - @ro...\n",
       "5         @lyricwaters should've gave the neighbor  a bu...\n",
       "6         On the way to CT! (@ Mamaroneck, NY in Mamaron...\n",
       "7         We're #hiring! Read about our latest #job open...\n",
       "8         Me... @ Montgomery Scrap Corporation https://t...\n",
       "9         BAYADA Home Health Care: Home Health Registere...\n",
       "10        Shift Supervisor Trainee - CVS Health: (#OCEAN...\n",
       "11        #007 #jamesbond #blacktie #redcarpet #vip #gam...\n",
       "12        Although I am not endorsing a candidate, I tho...\n",
       "13        I think spring finally has arrived! (@ Milwauk...\n",
       "14        Want to work in #Burlington, MA? View our late...\n",
       "15        Want to work in #Charlotte, NC? View our lates...\n",
       "16        you'll love this @34jaIIen https://t.co/fL7YNL...\n",
       "17        #Engineering #Job alert: Prod Engr - Software ...\n",
       "18        Can you recommend anyone for this #job? Clinic...\n",
       "19        I'm at @InNOutBurger in Long Beach, CA https:/...\n",
       "20        Don’t think about what can happen in a month. ...\n",
       "21        Vacation here I come !! @ Official JetBlue Ter...\n",
       "22        😊 @ Foro Sol, Mexico D.F. https://t.co/PbAbOV...\n",
       "23        Can you recommend anyone for this #Hospitality...\n",
       "24        We're #hiring! Click to apply: Manager Trainee...\n",
       "25                      I'm at Home https://t.co/fDCP5atErT\n",
       "26        See our latest #Savannah, GA #job and click to...\n",
       "27        Want to work at Macy's Beauty? We're #hiring i...\n",
       "28        Can you recommend anyone for this #job? Regist...\n",
       "29        🍩 is 🔑 @ Jupiter Donuts North Palm https://t...\n",
       "                                ...                        \n",
       "204790    We're #hiring! Click to apply: Registered Nurs...\n",
       "204791    I just finished running 4.92 miles in 43m:47s ...\n",
       "204792    “Summer Registration Bonanza” on Thursday, Apr...\n",
       "204793    Update: Construction on #NY17 WB from Seven La...\n",
       "204794    We're #hiring! Read about our latest #job open...\n",
       "204795    Felt like a tie kind of Thursday! @ Griffin Co...\n",
       "204796                              https://t.co/m4PJhXLD1f\n",
       "204797    Not A Soul Around.. #portjeff #portjefferson #...\n",
       "204798    Buttermilk Fried Chicken w/ Collard Greens &am...\n",
       "204799    We're #hiring! Read about our latest #job open...\n",
       "204800    Weather now: few clouds, 59°F, 3 mph east-nort...\n",
       "204801    Wo liegt Philadelphia? https://t.co/AOX91L8SRX...\n",
       "204802    Weather now: light intensity drizzle, 67°F, 7 ...\n",
       "204803    Governor Baker and Mayor Walsh to launch anti-...\n",
       "204804    Flowers along Normandy Blvd where Rebecca Gome...\n",
       "204805    Will Smith shooting: Attorneys spar over detai...\n",
       "204806    Current Conditions: Overcast and 59 F at Longv...\n",
       "204807    #DrugViolation at 335 N Magnolia Ave. #orlpol ...\n",
       "204808    Weather now: clear sky, 46°F, 6 mph west-south...\n",
       "204809    Weather now: clear sky, 40°F, 6 mph east wind....\n",
       "204810    Weather now: scattered clouds, 38°F, 8 mph nor...\n",
       "204811    Current Conditions: Light Rain and 58 F at Tyl...\n",
       "204812    A Vigil will be held for Father Rene Robert to...\n",
       "204813    E-cigarette explodes at mall kiosk, leaving te...\n",
       "204814    Weather now: clear sky, 35°F, 2 mph southeast ...\n",
       "204815    to congratulate Stephen Curry, who shot the Go...\n",
       "204816    #CriminalMischief at 6020-6299 Balboa Dr, Pine...\n",
       "204817    Wind 5.0 mph S. Barometer 30.006 in, Rising. T...\n",
       "204818    Please believe it 🙌🏿🙌🏿🙌🏿🙌🏿 @ Clothes &...\n",
       "204819                              https://t.co/HHjUVfeIZ1\n",
       "Name: Tweet content, Length: 204820, dtype: object"
      ]
     },
     "execution_count": 17,
     "metadata": {},
     "output_type": "execute_result"
    }
   ],
   "source": [
    "normal_tweets['Tweet content'].str.replace('\\n', ' ', case=True)"
   ]
  },
  {
   "cell_type": "code",
   "execution_count": null,
   "metadata": {
    "collapsed": true
   },
   "outputs": [],
   "source": [
    "Merge Troll datasets\n",
    "Delete unnecessary columns\n",
    "Make headers consistents"
   ]
  },
  {
   "cell_type": "code",
   "execution_count": null,
   "metadata": {
    "collapsed": true
   },
   "outputs": [],
   "source": [
    "Put label on troll and non troll data\n",
    "Merge normal and troll data"
   ]
  },
  {
   "cell_type": "markdown",
   "metadata": {},
   "source": [
    "# Different methods for NLP : One hot encoding and word2vec"
   ]
  },
  {
   "cell_type": "code",
   "execution_count": null,
   "metadata": {
    "collapsed": true
   },
   "outputs": [],
   "source": [
    "create 1 hot dataframe :\n",
    "https://stackoverflow.com/questions/18889588/create-dummies-from-column-with-multiple-values-in-pandas"
   ]
  },
  {
   "cell_type": "code",
   "execution_count": null,
   "metadata": {
    "collapsed": true
   },
   "outputs": [],
   "source": [
    "Create word2vec dataframe\n",
    "\n",
    "https://datascience.stackexchange.com/questions/10695/how-to-initialize-a-new-word2vec-model-with-pre-trained-model-weights\n",
    "    "
   ]
  },
  {
   "cell_type": "code",
   "execution_count": null,
   "metadata": {
    "collapsed": true
   },
   "outputs": [],
   "source": [
    "Create training and validation set"
   ]
  },
  {
   "cell_type": "markdown",
   "metadata": {},
   "source": [
    "# Different methods for classification : SVM and K Nearsest Neighbors "
   ]
  },
  {
   "cell_type": "code",
   "execution_count": null,
   "metadata": {
    "collapsed": true
   },
   "outputs": [],
   "source": [
    "Create SVM\n",
    "\n",
    "svc_1_hot = svm.SVC(C=1.0, kernel=’rbf’, degree=3, gamma=’auto’, coef0=0.0, shrinking=True, probability=False, tol=0.001, cache_size=200, class_weight=None, verbose=False, max_iter=-1, decision_function_shape=’ovr’, random_state=None)\n",
    "\n",
    "svc_word2vec = svm.SVC(C=1.0, kernel=’rbf’, degree=3, gamma=’auto’, coef0=0.0, shrinking=True, probability=False, tol=0.001, cache_size=200, class_weight=None, verbose=False, max_iter=-1, decision_function_shape=’ovr’, random_state=None)\n",
    "\n",
    "C_list =[]\n",
    "kernel_list =[]\n"
   ]
  },
  {
   "cell_type": "code",
   "execution_count": null,
   "metadata": {
    "collapsed": true
   },
   "outputs": [],
   "source": [
    "Train SVM using GridSearch on one-hot\n",
    "save results in list\n",
    "\n",
    "clf_svm_1 = GridSearchCV(estimator, param_grid, scoring=None, fit_params=None, n_jobs=1, iid=True, refit=True, cv=None, verbose=0, pre_dispatch=‘2*n_jobs’, error_score=’raise’, return_train_score=’warn’)\n",
    "\n"
   ]
  },
  {
   "cell_type": "code",
   "execution_count": null,
   "metadata": {
    "collapsed": true
   },
   "outputs": [],
   "source": [
    "Train SVM using Gridsearch on w2v\n",
    "save results in list\n",
    "\n",
    "clf_svm_2 = GridSearchCV(estimator, param_grid, scoring=None, fit_params=None, n_jobs=1, iid=True, refit=True, cv=None, verbose=0, pre_dispatch=‘2*n_jobs’, error_score=’raise’, return_train_score=’warn’)\n"
   ]
  },
  {
   "cell_type": "code",
   "execution_count": null,
   "metadata": {
    "collapsed": true
   },
   "outputs": [],
   "source": [
    "Create KNN\n",
    "\n",
    "knn_one_hot = neighbors.KNeighborsClassifier(n_neighbors=5, weights=’uniform’, algorithm=’auto’, leaf_size=30, p=2, metric=’minkowski’, metric_params=None, n_jobs=1, **kwargs)\\\n",
    "\n",
    "knn_word2vec = neighbors.KNeighborsClassifier(n_neighbors=5, weights=’uniform’, algorithm=’auto’, leaf_size=30, p=2, metric=’minkowski’, metric_params=None, n_jobs=1, **kwargs)\n",
    "\n",
    "neighbors_list = []\n",
    "weighting_list = []\n"
   ]
  },
  {
   "cell_type": "code",
   "execution_count": null,
   "metadata": {
    "collapsed": true
   },
   "outputs": [],
   "source": [
    "Train KNN using GridSearch on one-hot\n",
    "save results in list\n",
    "\n",
    "clf_knn_1 = GridSearchCV(estimator, param_grid, scoring=None, fit_params=None, n_jobs=1, iid=True, refit=True, cv=None, verbose=0, pre_dispatch=‘2*n_jobs’, error_score=’raise’, return_train_score=’warn’)\n"
   ]
  },
  {
   "cell_type": "code",
   "execution_count": null,
   "metadata": {
    "collapsed": true
   },
   "outputs": [],
   "source": [
    "Train KNN using Gridsearch on w2v\n",
    "save results in list\n",
    "\n",
    "clf_knn_2 = GridSearchCV(estimator, param_grid, scoring=None, fit_params=None, n_jobs=1, iid=True, refit=True, cv=None, verbose=0, pre_dispatch=‘2*n_jobs’, error_score=’raise’, return_train_score=’warn’)\n"
   ]
  },
  {
   "cell_type": "markdown",
   "metadata": {},
   "source": [
    "# Results"
   ]
  },
  {
   "cell_type": "code",
   "execution_count": null,
   "metadata": {
    "collapsed": true
   },
   "outputs": [],
   "source": [
    "PLot and present results"
   ]
  }
 ],
 "metadata": {
  "kernelspec": {
   "display_name": "Python 2",
   "language": "python",
   "name": "python2"
  },
  "language_info": {
   "codemirror_mode": {
    "name": "ipython",
    "version": 2
   },
   "file_extension": ".py",
   "mimetype": "text/x-python",
   "name": "python",
   "nbconvert_exporter": "python",
   "pygments_lexer": "ipython2",
   "version": "2.7.13"
  }
 },
 "nbformat": 4,
 "nbformat_minor": 1
}
