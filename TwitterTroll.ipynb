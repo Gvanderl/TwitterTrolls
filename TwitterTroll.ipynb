{
 "cells": [
  {
   "cell_type": "markdown",
   "metadata": {
    "collapsed": true
   },
   "source": [
    "# Final Project for COGS118A, this is meant to find and identify russian 'troll' tweets."
   ]
  },
  {
   "cell_type": "markdown",
   "metadata": {},
   "source": [
    "Group members :\n",
    "- Gael Van der Lee\n",
    "- Alex Labranche"
   ]
  },
  {
   "cell_type": "code",
   "execution_count": 1,
   "metadata": {
    "collapsed": true
   },
   "outputs": [],
   "source": [
    "import sklearn as sk\n",
    "import pandas as pd\n",
    "import matplotlib.pyplot as plt\n",
    "import re\n",
    "import random"
   ]
  },
  {
   "cell_type": "markdown",
   "metadata": {},
   "source": [
    "# Data gathering and cleaning"
   ]
  },
  {
   "cell_type": "markdown",
   "metadata": {},
   "source": [
    "### Loading and cleaning"
   ]
  },
  {
   "cell_type": "code",
   "execution_count": 2,
   "metadata": {
    "collapsed": true
   },
   "outputs": [],
   "source": [
    "# Load the 3 datasets\n",
    "troll_users = pd.read_csv('Tweets/Trolls/users.csv')\n",
    "troll_tweets = pd.read_csv('Tweets/Trolls/tweets.csv')\n",
    "normal_tweets = pd.read_csv('Tweets/Normal/dashboard_x_usa_x_filter_nativeretweets.csv')"
   ]
  },
  {
   "cell_type": "code",
   "execution_count": 3,
   "metadata": {},
   "outputs": [
    {
     "name": "stdout",
     "output_type": "stream",
     "text": [
      "Columns of each dataframe at import :\n",
      "\n",
      "Troll users : ['id' 'location' 'name' 'followers_count' 'statuses_count' 'time_zone'\n",
      " 'verified' 'lang' 'screen_name' 'description' 'created_at'\n",
      " 'favourites_count' 'friends_count' 'listed_count']\n",
      "\n",
      "Troll tweets : ['user_id' 'user_key' 'created_at' 'created_str' 'retweet_count'\n",
      " 'retweeted' 'favorite_count' 'text' 'tweet_id' 'source' 'hashtags'\n",
      " 'expanded_urls' 'posted' 'mentions' 'retweeted_status_id'\n",
      " 'in_reply_to_status_id']\n",
      "\n",
      "Normal tweets : ['Tweet Id' 'Date' 'Hour' 'User Name' 'Nickname' 'Bio' 'Tweet content'\n",
      " 'Favs' 'RTs' 'Latitude' 'Longitude' 'Country' 'Place (as appears on Bio)'\n",
      " 'Profile picture' 'Followers' 'Following' 'Listed'\n",
      " 'Tweet language (ISO 639-1)' 'Tweet Url']\n"
     ]
    }
   ],
   "source": [
    "print('Columns of each dataframe at import :\\n\\nTroll users : {}\\n\\nTroll tweets : {}\\n\\nNormal tweets : {}'\n",
    "      .format(troll_users.columns.values, troll_tweets.columns.values, normal_tweets.columns.values))"
   ]
  },
  {
   "cell_type": "code",
   "execution_count": 4,
   "metadata": {
    "collapsed": true
   },
   "outputs": [],
   "source": [
    "# Make Nicknames consistent\n",
    "troll_users['screen_name'] = troll_users['screen_name'].str.lower()\n",
    "\n",
    "# Drop the column we don't want to use\n",
    "users_to_drop = ['statuses_count', 'time_zone', 'verified', 'favourites_count']\n",
    "tweets_to_drop = ['created_at', 'tweet_id', 'source', 'posted', 'retweeted_status_id', 'retweeted', 'in_reply_to_status_id']\n",
    "normal_to_drop = ['Tweet Id', 'Latitude', 'Longitude', 'Country', 'Profile picture', 'Tweet Url']\n",
    "troll_users = troll_users.drop(users_to_drop, axis=1)\n",
    "troll_tweets = troll_tweets.drop(tweets_to_drop, axis=1)\n",
    "normal_tweets = normal_tweets.drop(normal_to_drop, axis=1)"
   ]
  },
  {
   "cell_type": "code",
   "execution_count": 5,
   "metadata": {
    "collapsed": true
   },
   "outputs": [],
   "source": [
    "users_new_cols = {'id': 'User Id', 'location': 'Location', 'name': 'User Name', \n",
    "                  'followers_count': 'Followers', 'lang': 'Language', 'screen_name': 'Nickname',\n",
    "                  'description': 'Bio', 'created_at': 'Account creation date', \n",
    "                  'friends_count': 'Following', 'listed_count': 'Listed'}\n",
    "tweets_new_cols = {'user_id': 'User Id', 'user_key': 'Nickname', 'created_str': 'Tweet date',\n",
    "                   'retweet_count': 'Retweets', 'favorite_count': 'Favorites', 'text': 'Tweet',\n",
    "                   'hashtags': 'Hashtags', 'expanded_urls': 'URLs', 'mentions': 'Mentions'}\n",
    "normal_new_cols = {'Tweet content': 'Tweet', 'Favs': 'Favorites', 'RTs': 'Retweets', \n",
    "                   'Place (as appears on Bio)': 'Location', 'Tweet language (ISO 639-1)': 'Language'}\n",
    "\n",
    "troll_users = troll_users.rename(columns=users_new_cols)\n",
    "troll_tweets = troll_tweets.rename(columns=tweets_new_cols)\n",
    "normal_tweets = normal_tweets.rename(columns=normal_new_cols)\n",
    "\n",
    "# Make times formats the same\n",
    "normal_tweets['Tweet date'] = normal_tweets['Date'] + ' ' + normal_tweets['Hour']\n",
    "normal_tweets = normal_tweets.drop(['Date', 'Hour'], axis=1)\n",
    "\n",
    "# Helps with merging\n",
    "troll_users = troll_users.drop(['User Id', 'Account creation date'], axis=1)\n",
    "troll_tweets = troll_tweets.drop('User Id', axis=1)"
   ]
  },
  {
   "cell_type": "code",
   "execution_count": 6,
   "metadata": {},
   "outputs": [
    {
     "name": "stdout",
     "output_type": "stream",
     "text": [
      "Columns of each dataframe after cleaning :\n",
      "\n",
      "Troll users : ['Location' 'User Name' 'Followers' 'Language' 'Nickname' 'Bio'\n",
      " 'Following' 'Listed']\n",
      "\n",
      "Troll tweets : ['Nickname' 'Tweet date' 'Retweets' 'Favorites' 'Tweet' 'Hashtags' 'URLs'\n",
      " 'Mentions']\n",
      "\n",
      "Normal tweets : ['User Name' 'Nickname' 'Bio' 'Tweet' 'Favorites' 'Retweets' 'Location'\n",
      " 'Followers' 'Following' 'Listed' 'Language' 'Tweet date']\n"
     ]
    }
   ],
   "source": [
    "print('Columns of each dataframe after cleaning :\\n\\nTroll users : {}\\n\\nTroll tweets : {}\\n\\nNormal tweets : {}'\n",
    "      .format(troll_users.columns.values, troll_tweets.columns.values, normal_tweets.columns.values))"
   ]
  },
  {
   "cell_type": "markdown",
   "metadata": {},
   "source": [
    "### Labeling and merging the datasets"
   ]
  },
  {
   "cell_type": "code",
   "execution_count": 7,
   "metadata": {
    "collapsed": true
   },
   "outputs": [],
   "source": [
    "# Merge the troll datasets\n",
    "trolls = pd.merge(left=troll_tweets, right=troll_users)"
   ]
  },
  {
   "cell_type": "code",
   "execution_count": 8,
   "metadata": {
    "scrolled": true
   },
   "outputs": [
    {
     "data": {
      "text/html": [
       "<div>\n",
       "<style scoped>\n",
       "    .dataframe tbody tr th:only-of-type {\n",
       "        vertical-align: middle;\n",
       "    }\n",
       "\n",
       "    .dataframe tbody tr th {\n",
       "        vertical-align: top;\n",
       "    }\n",
       "\n",
       "    .dataframe thead th {\n",
       "        text-align: right;\n",
       "    }\n",
       "</style>\n",
       "<table border=\"1\" class=\"dataframe\">\n",
       "  <thead>\n",
       "    <tr style=\"text-align: right;\">\n",
       "      <th></th>\n",
       "      <th>Nickname</th>\n",
       "      <th>Tweet date</th>\n",
       "      <th>Retweets</th>\n",
       "      <th>Favorites</th>\n",
       "      <th>Tweet</th>\n",
       "      <th>Hashtags</th>\n",
       "      <th>URLs</th>\n",
       "      <th>Mentions</th>\n",
       "      <th>Location</th>\n",
       "      <th>User Name</th>\n",
       "      <th>Followers</th>\n",
       "      <th>Language</th>\n",
       "      <th>Bio</th>\n",
       "      <th>Following</th>\n",
       "      <th>Listed</th>\n",
       "    </tr>\n",
       "  </thead>\n",
       "  <tbody>\n",
       "    <tr>\n",
       "      <th>0</th>\n",
       "      <td>kathiemrr</td>\n",
       "      <td>2017-02-27 14:54:00</td>\n",
       "      <td>NaN</td>\n",
       "      <td>NaN</td>\n",
       "      <td>#ThingsDoneByMistake kissing auntie in the lips</td>\n",
       "      <td>[\"ThingsDoneByMistake\"]</td>\n",
       "      <td>[]</td>\n",
       "      <td>[]</td>\n",
       "      <td>Atlanta</td>\n",
       "      <td>Kathie</td>\n",
       "      <td>2970.0</td>\n",
       "      <td>en</td>\n",
       "      <td>Imperfection is beauty, madness is genius and ...</td>\n",
       "      <td>3157.0</td>\n",
       "      <td>22.0</td>\n",
       "    </tr>\n",
       "    <tr>\n",
       "      <th>1</th>\n",
       "      <td>kathiemrr</td>\n",
       "      <td>2016-11-28 16:17:36</td>\n",
       "      <td>NaN</td>\n",
       "      <td>NaN</td>\n",
       "      <td>RT @jadedsweetangel: #ToDoListBeforeChristmas ...</td>\n",
       "      <td>[\"ToDoListBeforeChristmas\"]</td>\n",
       "      <td>[]</td>\n",
       "      <td>[]</td>\n",
       "      <td>Atlanta</td>\n",
       "      <td>Kathie</td>\n",
       "      <td>2970.0</td>\n",
       "      <td>en</td>\n",
       "      <td>Imperfection is beauty, madness is genius and ...</td>\n",
       "      <td>3157.0</td>\n",
       "      <td>22.0</td>\n",
       "    </tr>\n",
       "  </tbody>\n",
       "</table>\n",
       "</div>"
      ],
      "text/plain": [
       "    Nickname           Tweet date  Retweets  Favorites  \\\n",
       "0  kathiemrr  2017-02-27 14:54:00       NaN        NaN   \n",
       "1  kathiemrr  2016-11-28 16:17:36       NaN        NaN   \n",
       "\n",
       "                                               Tweet  \\\n",
       "0    #ThingsDoneByMistake kissing auntie in the lips   \n",
       "1  RT @jadedsweetangel: #ToDoListBeforeChristmas ...   \n",
       "\n",
       "                      Hashtags URLs Mentions Location User Name  Followers  \\\n",
       "0      [\"ThingsDoneByMistake\"]   []       []  Atlanta    Kathie     2970.0   \n",
       "1  [\"ToDoListBeforeChristmas\"]   []       []  Atlanta    Kathie     2970.0   \n",
       "\n",
       "  Language                                                Bio  Following  \\\n",
       "0       en  Imperfection is beauty, madness is genius and ...     3157.0   \n",
       "1       en  Imperfection is beauty, madness is genius and ...     3157.0   \n",
       "\n",
       "   Listed  \n",
       "0    22.0  \n",
       "1    22.0  "
      ]
     },
     "execution_count": 8,
     "metadata": {},
     "output_type": "execute_result"
    }
   ],
   "source": [
    "trolls.iloc[:2, :]"
   ]
  },
  {
   "cell_type": "code",
   "execution_count": 9,
   "metadata": {},
   "outputs": [
    {
     "data": {
      "text/html": [
       "<div>\n",
       "<style scoped>\n",
       "    .dataframe tbody tr th:only-of-type {\n",
       "        vertical-align: middle;\n",
       "    }\n",
       "\n",
       "    .dataframe tbody tr th {\n",
       "        vertical-align: top;\n",
       "    }\n",
       "\n",
       "    .dataframe thead th {\n",
       "        text-align: right;\n",
       "    }\n",
       "</style>\n",
       "<table border=\"1\" class=\"dataframe\">\n",
       "  <thead>\n",
       "    <tr style=\"text-align: right;\">\n",
       "      <th></th>\n",
       "      <th>User Name</th>\n",
       "      <th>Nickname</th>\n",
       "      <th>Bio</th>\n",
       "      <th>Tweet</th>\n",
       "      <th>Favorites</th>\n",
       "      <th>Retweets</th>\n",
       "      <th>Location</th>\n",
       "      <th>Followers</th>\n",
       "      <th>Following</th>\n",
       "      <th>Listed</th>\n",
       "      <th>Language</th>\n",
       "      <th>Tweet date</th>\n",
       "    </tr>\n",
       "  </thead>\n",
       "  <tbody>\n",
       "    <tr>\n",
       "      <th>0</th>\n",
       "      <td>Bill Schulhoff</td>\n",
       "      <td>BillSchulhoff</td>\n",
       "      <td>Husband,Dad,GrandDad,Ordained Minister, Umpire...</td>\n",
       "      <td>Wind 3.2 mph NNE. Barometer 30.20 in, Rising s...</td>\n",
       "      <td>NaN</td>\n",
       "      <td>NaN</td>\n",
       "      <td>East Patchogue, NY</td>\n",
       "      <td>386.0</td>\n",
       "      <td>705.0</td>\n",
       "      <td>24.0</td>\n",
       "      <td>en</td>\n",
       "      <td>2016-04-16 12:44</td>\n",
       "    </tr>\n",
       "    <tr>\n",
       "      <th>1</th>\n",
       "      <td>Daniele Polis</td>\n",
       "      <td>danipolis</td>\n",
       "      <td>Viagens, geek, moda, batons laranja, cabelos c...</td>\n",
       "      <td>Pausa pro café antes de embarcar no próximo vô...</td>\n",
       "      <td>NaN</td>\n",
       "      <td>NaN</td>\n",
       "      <td>Grapevine, TX</td>\n",
       "      <td>812.0</td>\n",
       "      <td>647.0</td>\n",
       "      <td>16.0</td>\n",
       "      <td>pt</td>\n",
       "      <td>2016-04-16 12:44</td>\n",
       "    </tr>\n",
       "  </tbody>\n",
       "</table>\n",
       "</div>"
      ],
      "text/plain": [
       "        User Name       Nickname  \\\n",
       "0  Bill Schulhoff  BillSchulhoff   \n",
       "1   Daniele Polis      danipolis   \n",
       "\n",
       "                                                 Bio  \\\n",
       "0  Husband,Dad,GrandDad,Ordained Minister, Umpire...   \n",
       "1  Viagens, geek, moda, batons laranja, cabelos c...   \n",
       "\n",
       "                                               Tweet  Favorites  Retweets  \\\n",
       "0  Wind 3.2 mph NNE. Barometer 30.20 in, Rising s...        NaN       NaN   \n",
       "1  Pausa pro café antes de embarcar no próximo vô...        NaN       NaN   \n",
       "\n",
       "             Location  Followers  Following  Listed Language        Tweet date  \n",
       "0  East Patchogue, NY      386.0      705.0    24.0       en  2016-04-16 12:44  \n",
       "1       Grapevine, TX      812.0      647.0    16.0       pt  2016-04-16 12:44  "
      ]
     },
     "execution_count": 9,
     "metadata": {},
     "output_type": "execute_result"
    }
   ],
   "source": [
    "normal_tweets.iloc[:2, :]"
   ]
  },
  {
   "cell_type": "code",
   "execution_count": 10,
   "metadata": {
    "collapsed": true
   },
   "outputs": [],
   "source": [
    "# Put labels\n",
    "trolls['y'] = pd.Series([1 for x in range(len(trolls))], index=trolls.index)\n",
    "normal_tweets['y'] = pd.Series([0 for x in range(len(normal_tweets))], index=normal_tweets.index)"
   ]
  },
  {
   "cell_type": "code",
   "execution_count": 11,
   "metadata": {
    "collapsed": true
   },
   "outputs": [],
   "source": [
    "# Merge normal and troll data \n",
    "tweets = trolls.append(normal_tweets, ignore_index=True)"
   ]
  },
  {
   "cell_type": "code",
   "execution_count": 12,
   "metadata": {
    "collapsed": true
   },
   "outputs": [],
   "source": [
    "# Random rows we will use for visualization\n",
    "rows = [random.randint(0, len(tweets)) for i in range(3)]"
   ]
  },
  {
   "cell_type": "code",
   "execution_count": 13,
   "metadata": {
    "scrolled": true
   },
   "outputs": [
    {
     "data": {
      "text/html": [
       "<div>\n",
       "<style scoped>\n",
       "    .dataframe tbody tr th:only-of-type {\n",
       "        vertical-align: middle;\n",
       "    }\n",
       "\n",
       "    .dataframe tbody tr th {\n",
       "        vertical-align: top;\n",
       "    }\n",
       "\n",
       "    .dataframe thead th {\n",
       "        text-align: right;\n",
       "    }\n",
       "</style>\n",
       "<table border=\"1\" class=\"dataframe\">\n",
       "  <thead>\n",
       "    <tr style=\"text-align: right;\">\n",
       "      <th></th>\n",
       "      <th>Bio</th>\n",
       "      <th>Favorites</th>\n",
       "      <th>Followers</th>\n",
       "      <th>Following</th>\n",
       "      <th>Hashtags</th>\n",
       "      <th>Language</th>\n",
       "      <th>Listed</th>\n",
       "      <th>Location</th>\n",
       "      <th>Mentions</th>\n",
       "      <th>Nickname</th>\n",
       "      <th>Retweets</th>\n",
       "      <th>Tweet</th>\n",
       "      <th>Tweet date</th>\n",
       "      <th>URLs</th>\n",
       "      <th>User Name</th>\n",
       "      <th>y</th>\n",
       "    </tr>\n",
       "  </thead>\n",
       "  <tbody>\n",
       "    <tr>\n",
       "      <th>293284</th>\n",
       "      <td>Follow this account for geo-targeted Healthcar...</td>\n",
       "      <td>NaN</td>\n",
       "      <td>562.0</td>\n",
       "      <td>306.0</td>\n",
       "      <td>NaN</td>\n",
       "      <td>en</td>\n",
       "      <td>87.0</td>\n",
       "      <td>Fort Worth, TX</td>\n",
       "      <td>NaN</td>\n",
       "      <td>tmj_dfw_health</td>\n",
       "      <td>NaN</td>\n",
       "      <td>Primary Care physicians being... - Plaza Medic...</td>\n",
       "      <td>2016-04-15 18:48</td>\n",
       "      <td>NaN</td>\n",
       "      <td>TMJ- DFW Health Jobs</td>\n",
       "      <td>0</td>\n",
       "    </tr>\n",
       "    <tr>\n",
       "      <th>52123</th>\n",
       "      <td>~Reagan Conservative ~Jesus Lover ~PRO-Israel ...</td>\n",
       "      <td>0.0</td>\n",
       "      <td>2225.0</td>\n",
       "      <td>2159.0</td>\n",
       "      <td>[\"TrumpPence16\",\"AmericaFirst\",\"Trump2016\",\"ma...</td>\n",
       "      <td>en</td>\n",
       "      <td>72.0</td>\n",
       "      <td>USA</td>\n",
       "      <td>[\"fingersflying\",\"realdonaldtrump\"]</td>\n",
       "      <td>hyddrox</td>\n",
       "      <td>0.0</td>\n",
       "      <td>RT @Fingersflying: #CCOT But this doesn't mean...</td>\n",
       "      <td>2016-09-17 05:28:04</td>\n",
       "      <td>[\"https://twitter.com/JackPosobiec/status/7767...</td>\n",
       "      <td>Susan</td>\n",
       "      <td>1</td>\n",
       "    </tr>\n",
       "    <tr>\n",
       "      <th>305970</th>\n",
       "      <td>Follow this account for geo-targeted Healthcar...</td>\n",
       "      <td>NaN</td>\n",
       "      <td>575.0</td>\n",
       "      <td>307.0</td>\n",
       "      <td>NaN</td>\n",
       "      <td>en</td>\n",
       "      <td>46.0</td>\n",
       "      <td>Statesville, NC</td>\n",
       "      <td>NaN</td>\n",
       "      <td>tmj_clt_nursing</td>\n",
       "      <td>NaN</td>\n",
       "      <td>Can you recommend anyone for this #Nursing #jo...</td>\n",
       "      <td>2016-04-15 16:53</td>\n",
       "      <td>NaN</td>\n",
       "      <td>Charlotte Nursing</td>\n",
       "      <td>0</td>\n",
       "    </tr>\n",
       "  </tbody>\n",
       "</table>\n",
       "</div>"
      ],
      "text/plain": [
       "                                                      Bio  Favorites  \\\n",
       "293284  Follow this account for geo-targeted Healthcar...        NaN   \n",
       "52123   ~Reagan Conservative ~Jesus Lover ~PRO-Israel ...        0.0   \n",
       "305970  Follow this account for geo-targeted Healthcar...        NaN   \n",
       "\n",
       "        Followers  Following  \\\n",
       "293284      562.0      306.0   \n",
       "52123      2225.0     2159.0   \n",
       "305970      575.0      307.0   \n",
       "\n",
       "                                                 Hashtags Language  Listed  \\\n",
       "293284                                                NaN       en    87.0   \n",
       "52123   [\"TrumpPence16\",\"AmericaFirst\",\"Trump2016\",\"ma...       en    72.0   \n",
       "305970                                                NaN       en    46.0   \n",
       "\n",
       "               Location                             Mentions         Nickname  \\\n",
       "293284   Fort Worth, TX                                  NaN   tmj_dfw_health   \n",
       "52123               USA  [\"fingersflying\",\"realdonaldtrump\"]          hyddrox   \n",
       "305970  Statesville, NC                                  NaN  tmj_clt_nursing   \n",
       "\n",
       "        Retweets                                              Tweet  \\\n",
       "293284       NaN  Primary Care physicians being... - Plaza Medic...   \n",
       "52123        0.0  RT @Fingersflying: #CCOT But this doesn't mean...   \n",
       "305970       NaN  Can you recommend anyone for this #Nursing #jo...   \n",
       "\n",
       "                 Tweet date  \\\n",
       "293284     2016-04-15 18:48   \n",
       "52123   2016-09-17 05:28:04   \n",
       "305970     2016-04-15 16:53   \n",
       "\n",
       "                                                     URLs  \\\n",
       "293284                                                NaN   \n",
       "52123   [\"https://twitter.com/JackPosobiec/status/7767...   \n",
       "305970                                                NaN   \n",
       "\n",
       "                   User Name  y  \n",
       "293284  TMJ- DFW Health Jobs  0  \n",
       "52123                  Susan  1  \n",
       "305970     Charlotte Nursing  0  "
      ]
     },
     "execution_count": 13,
     "metadata": {},
     "output_type": "execute_result"
    }
   ],
   "source": [
    "tweets.iloc[rows, :]"
   ]
  },
  {
   "cell_type": "markdown",
   "metadata": {},
   "source": [
    "### Extracting hashtags and mentions"
   ]
  },
  {
   "cell_type": "code",
   "execution_count": 14,
   "metadata": {
    "collapsed": true
   },
   "outputs": [],
   "source": [
    "def extract_hashtag(string):\n",
    "    htags = []\n",
    "    string = str(string)\n",
    "    for word in string.split():\n",
    "        if word[0] == '#':\n",
    "            htags.append(word[1:])\n",
    "    splits= []\n",
    "    # Puts space before capital letters and numbers\n",
    "    for h in htags:\n",
    "        splits.append(re.sub(r\"([A-Z0-9])\", r\" \\1\", h)[1:])\n",
    "    return splits\n",
    "\n",
    "def extract_mentions(string):\n",
    "    men = []\n",
    "    string = str(string)\n",
    "    for word in string.split():\n",
    "        if word[0] == '@':\n",
    "            if word[-1] == ':':\n",
    "                men.append(word[1:-1])\n",
    "            else:\n",
    "                men.append(word[1:])\n",
    "    return men"
   ]
  },
  {
   "cell_type": "code",
   "execution_count": 15,
   "metadata": {
    "collapsed": true
   },
   "outputs": [],
   "source": [
    "tweets['Hashtags'] = tweets['Tweet'].apply(extract_hashtag)\n",
    "tweets['Mentions'] = tweets['Tweet'].apply(extract_mentions)"
   ]
  },
  {
   "cell_type": "code",
   "execution_count": 16,
   "metadata": {},
   "outputs": [
    {
     "data": {
      "text/html": [
       "<div>\n",
       "<style scoped>\n",
       "    .dataframe tbody tr th:only-of-type {\n",
       "        vertical-align: middle;\n",
       "    }\n",
       "\n",
       "    .dataframe tbody tr th {\n",
       "        vertical-align: top;\n",
       "    }\n",
       "\n",
       "    .dataframe thead th {\n",
       "        text-align: right;\n",
       "    }\n",
       "</style>\n",
       "<table border=\"1\" class=\"dataframe\">\n",
       "  <thead>\n",
       "    <tr style=\"text-align: right;\">\n",
       "      <th></th>\n",
       "      <th>Bio</th>\n",
       "      <th>Favorites</th>\n",
       "      <th>Followers</th>\n",
       "      <th>Following</th>\n",
       "      <th>Hashtags</th>\n",
       "      <th>Language</th>\n",
       "      <th>Listed</th>\n",
       "      <th>Location</th>\n",
       "      <th>Mentions</th>\n",
       "      <th>Nickname</th>\n",
       "      <th>Retweets</th>\n",
       "      <th>Tweet</th>\n",
       "      <th>Tweet date</th>\n",
       "      <th>URLs</th>\n",
       "      <th>User Name</th>\n",
       "      <th>y</th>\n",
       "    </tr>\n",
       "  </thead>\n",
       "  <tbody>\n",
       "    <tr>\n",
       "      <th>293284</th>\n",
       "      <td>Follow this account for geo-targeted Healthcar...</td>\n",
       "      <td>NaN</td>\n",
       "      <td>562.0</td>\n",
       "      <td>306.0</td>\n",
       "      <td>[Emergency Medicine, Job]</td>\n",
       "      <td>en</td>\n",
       "      <td>87.0</td>\n",
       "      <td>Fort Worth, TX</td>\n",
       "      <td>[]</td>\n",
       "      <td>tmj_dfw_health</td>\n",
       "      <td>NaN</td>\n",
       "      <td>Primary Care physicians being... - Plaza Medic...</td>\n",
       "      <td>2016-04-15 18:48</td>\n",
       "      <td>NaN</td>\n",
       "      <td>TMJ- DFW Health Jobs</td>\n",
       "      <td>0</td>\n",
       "    </tr>\n",
       "    <tr>\n",
       "      <th>52123</th>\n",
       "      <td>~Reagan Conservative ~Jesus Lover ~PRO-Israel ...</td>\n",
       "      <td>0.0</td>\n",
       "      <td>2225.0</td>\n",
       "      <td>2159.0</td>\n",
       "      <td>[C C O T, Trump 2 0 1 6, M A G A, Trump Pence ...</td>\n",
       "      <td>en</td>\n",
       "      <td>72.0</td>\n",
       "      <td>USA</td>\n",
       "      <td>[Fingersflying]</td>\n",
       "      <td>hyddrox</td>\n",
       "      <td>0.0</td>\n",
       "      <td>RT @Fingersflying: #CCOT But this doesn't mean...</td>\n",
       "      <td>2016-09-17 05:28:04</td>\n",
       "      <td>[\"https://twitter.com/JackPosobiec/status/7767...</td>\n",
       "      <td>Susan</td>\n",
       "      <td>1</td>\n",
       "    </tr>\n",
       "    <tr>\n",
       "      <th>305970</th>\n",
       "      <td>Follow this account for geo-targeted Healthcar...</td>\n",
       "      <td>NaN</td>\n",
       "      <td>575.0</td>\n",
       "      <td>307.0</td>\n",
       "      <td>[Nursing, ob?, Statesville,, Hiring, Career Arc]</td>\n",
       "      <td>en</td>\n",
       "      <td>46.0</td>\n",
       "      <td>Statesville, NC</td>\n",
       "      <td>[]</td>\n",
       "      <td>tmj_clt_nursing</td>\n",
       "      <td>NaN</td>\n",
       "      <td>Can you recommend anyone for this #Nursing #jo...</td>\n",
       "      <td>2016-04-15 16:53</td>\n",
       "      <td>NaN</td>\n",
       "      <td>Charlotte Nursing</td>\n",
       "      <td>0</td>\n",
       "    </tr>\n",
       "  </tbody>\n",
       "</table>\n",
       "</div>"
      ],
      "text/plain": [
       "                                                      Bio  Favorites  \\\n",
       "293284  Follow this account for geo-targeted Healthcar...        NaN   \n",
       "52123   ~Reagan Conservative ~Jesus Lover ~PRO-Israel ...        0.0   \n",
       "305970  Follow this account for geo-targeted Healthcar...        NaN   \n",
       "\n",
       "        Followers  Following  \\\n",
       "293284      562.0      306.0   \n",
       "52123      2225.0     2159.0   \n",
       "305970      575.0      307.0   \n",
       "\n",
       "                                                 Hashtags Language  Listed  \\\n",
       "293284                          [Emergency Medicine, Job]       en    87.0   \n",
       "52123   [C C O T, Trump 2 0 1 6, M A G A, Trump Pence ...       en    72.0   \n",
       "305970   [Nursing, ob?, Statesville,, Hiring, Career Arc]       en    46.0   \n",
       "\n",
       "               Location         Mentions         Nickname  Retweets  \\\n",
       "293284   Fort Worth, TX               []   tmj_dfw_health       NaN   \n",
       "52123               USA  [Fingersflying]          hyddrox       0.0   \n",
       "305970  Statesville, NC               []  tmj_clt_nursing       NaN   \n",
       "\n",
       "                                                    Tweet  \\\n",
       "293284  Primary Care physicians being... - Plaza Medic...   \n",
       "52123   RT @Fingersflying: #CCOT But this doesn't mean...   \n",
       "305970  Can you recommend anyone for this #Nursing #jo...   \n",
       "\n",
       "                 Tweet date  \\\n",
       "293284     2016-04-15 18:48   \n",
       "52123   2016-09-17 05:28:04   \n",
       "305970     2016-04-15 16:53   \n",
       "\n",
       "                                                     URLs  \\\n",
       "293284                                                NaN   \n",
       "52123   [\"https://twitter.com/JackPosobiec/status/7767...   \n",
       "305970                                                NaN   \n",
       "\n",
       "                   User Name  y  \n",
       "293284  TMJ- DFW Health Jobs  0  \n",
       "52123                  Susan  1  \n",
       "305970     Charlotte Nursing  0  "
      ]
     },
     "execution_count": 16,
     "metadata": {},
     "output_type": "execute_result"
    }
   ],
   "source": [
    "tweets.iloc[rows, :]"
   ]
  },
  {
   "cell_type": "code",
   "execution_count": 23,
   "metadata": {
    "collapsed": true
   },
   "outputs": [],
   "source": [
    "def delete(string):\n",
    "    string = str(string)\n",
    "    string = string.split()\n",
    "    to_remove = []\n",
    "    for word in string:\n",
    "        if word[0] == '#' or word[0] == '@' or word == 'RT':\n",
    "            to_remove.append(word)\n",
    "    for word in to_remove:\n",
    "        string.remove(word)\n",
    "    return ' '.join(string)"
   ]
  },
  {
   "cell_type": "code",
   "execution_count": 24,
   "metadata": {
    "collapsed": true
   },
   "outputs": [],
   "source": [
    "tweets['Tweet'] = tweets['Tweet'].apply(delete)"
   ]
  },
  {
   "cell_type": "code",
   "execution_count": 26,
   "metadata": {},
   "outputs": [
    {
     "data": {
      "text/html": [
       "<div>\n",
       "<style scoped>\n",
       "    .dataframe tbody tr th:only-of-type {\n",
       "        vertical-align: middle;\n",
       "    }\n",
       "\n",
       "    .dataframe tbody tr th {\n",
       "        vertical-align: top;\n",
       "    }\n",
       "\n",
       "    .dataframe thead th {\n",
       "        text-align: right;\n",
       "    }\n",
       "</style>\n",
       "<table border=\"1\" class=\"dataframe\">\n",
       "  <thead>\n",
       "    <tr style=\"text-align: right;\">\n",
       "      <th></th>\n",
       "      <th>Bio</th>\n",
       "      <th>Favorites</th>\n",
       "      <th>Followers</th>\n",
       "      <th>Following</th>\n",
       "      <th>Hashtags</th>\n",
       "      <th>Language</th>\n",
       "      <th>Listed</th>\n",
       "      <th>Location</th>\n",
       "      <th>Mentions</th>\n",
       "      <th>Nickname</th>\n",
       "      <th>Retweets</th>\n",
       "      <th>Tweet</th>\n",
       "      <th>Tweet date</th>\n",
       "      <th>URLs</th>\n",
       "      <th>User Name</th>\n",
       "      <th>y</th>\n",
       "    </tr>\n",
       "  </thead>\n",
       "  <tbody>\n",
       "    <tr>\n",
       "      <th>293284</th>\n",
       "      <td>Follow this account for geo-targeted Healthcar...</td>\n",
       "      <td>NaN</td>\n",
       "      <td>562.0</td>\n",
       "      <td>306.0</td>\n",
       "      <td>[Emergency Medicine, Job]</td>\n",
       "      <td>en</td>\n",
       "      <td>87.0</td>\n",
       "      <td>Fort Worth, TX</td>\n",
       "      <td>[]</td>\n",
       "      <td>tmj_dfw_health</td>\n",
       "      <td>NaN</td>\n",
       "      <td>Primary Care physicians being... - Plaza Medic...</td>\n",
       "      <td>2016-04-15 18:48</td>\n",
       "      <td>NaN</td>\n",
       "      <td>TMJ- DFW Health Jobs</td>\n",
       "      <td>0</td>\n",
       "    </tr>\n",
       "    <tr>\n",
       "      <th>52123</th>\n",
       "      <td>~Reagan Conservative ~Jesus Lover ~PRO-Israel ...</td>\n",
       "      <td>0.0</td>\n",
       "      <td>2225.0</td>\n",
       "      <td>2159.0</td>\n",
       "      <td>[C C O T, Trump 2 0 1 6, M A G A, Trump Pence ...</td>\n",
       "      <td>en</td>\n",
       "      <td>72.0</td>\n",
       "      <td>USA</td>\n",
       "      <td>[Fingersflying]</td>\n",
       "      <td>hyddrox</td>\n",
       "      <td>0.0</td>\n",
       "      <td>But this doesn't mean you don't go out and vot...</td>\n",
       "      <td>2016-09-17 05:28:04</td>\n",
       "      <td>[\"https://twitter.com/JackPosobiec/status/7767...</td>\n",
       "      <td>Susan</td>\n",
       "      <td>1</td>\n",
       "    </tr>\n",
       "    <tr>\n",
       "      <th>305970</th>\n",
       "      <td>Follow this account for geo-targeted Healthcar...</td>\n",
       "      <td>NaN</td>\n",
       "      <td>575.0</td>\n",
       "      <td>307.0</td>\n",
       "      <td>[Nursing, ob?, Statesville,, Hiring, Career Arc]</td>\n",
       "      <td>en</td>\n",
       "      <td>46.0</td>\n",
       "      <td>Statesville, NC</td>\n",
       "      <td>[]</td>\n",
       "      <td>tmj_clt_nursing</td>\n",
       "      <td>NaN</td>\n",
       "      <td>Can you recommend anyone for this https://t.co...</td>\n",
       "      <td>2016-04-15 16:53</td>\n",
       "      <td>NaN</td>\n",
       "      <td>Charlotte Nursing</td>\n",
       "      <td>0</td>\n",
       "    </tr>\n",
       "  </tbody>\n",
       "</table>\n",
       "</div>"
      ],
      "text/plain": [
       "                                                      Bio  Favorites  \\\n",
       "293284  Follow this account for geo-targeted Healthcar...        NaN   \n",
       "52123   ~Reagan Conservative ~Jesus Lover ~PRO-Israel ...        0.0   \n",
       "305970  Follow this account for geo-targeted Healthcar...        NaN   \n",
       "\n",
       "        Followers  Following  \\\n",
       "293284      562.0      306.0   \n",
       "52123      2225.0     2159.0   \n",
       "305970      575.0      307.0   \n",
       "\n",
       "                                                 Hashtags Language  Listed  \\\n",
       "293284                          [Emergency Medicine, Job]       en    87.0   \n",
       "52123   [C C O T, Trump 2 0 1 6, M A G A, Trump Pence ...       en    72.0   \n",
       "305970   [Nursing, ob?, Statesville,, Hiring, Career Arc]       en    46.0   \n",
       "\n",
       "               Location         Mentions         Nickname  Retweets  \\\n",
       "293284   Fort Worth, TX               []   tmj_dfw_health       NaN   \n",
       "52123               USA  [Fingersflying]          hyddrox       0.0   \n",
       "305970  Statesville, NC               []  tmj_clt_nursing       NaN   \n",
       "\n",
       "                                                    Tweet  \\\n",
       "293284  Primary Care physicians being... - Plaza Medic...   \n",
       "52123   But this doesn't mean you don't go out and vot...   \n",
       "305970  Can you recommend anyone for this https://t.co...   \n",
       "\n",
       "                 Tweet date  \\\n",
       "293284     2016-04-15 18:48   \n",
       "52123   2016-09-17 05:28:04   \n",
       "305970     2016-04-15 16:53   \n",
       "\n",
       "                                                     URLs  \\\n",
       "293284                                                NaN   \n",
       "52123   [\"https://twitter.com/JackPosobiec/status/7767...   \n",
       "305970                                                NaN   \n",
       "\n",
       "                   User Name  y  \n",
       "293284  TMJ- DFW Health Jobs  0  \n",
       "52123                  Susan  1  \n",
       "305970     Charlotte Nursing  0  "
      ]
     },
     "execution_count": 26,
     "metadata": {},
     "output_type": "execute_result"
    }
   ],
   "source": [
    "tweets.iloc[rows, :]"
   ]
  },
  {
   "cell_type": "markdown",
   "metadata": {},
   "source": [
    "# Different methods for NLP : One hot encoding and word2vec"
   ]
  },
  {
   "cell_type": "code",
   "execution_count": null,
   "metadata": {
    "collapsed": true
   },
   "outputs": [],
   "source": []
  },
  {
   "cell_type": "code",
   "execution_count": null,
   "metadata": {
    "collapsed": true
   },
   "outputs": [],
   "source": [
    "create 1 hot dataframe :\n",
    "https://stackoverflow.com/questions/18889588/create-dummies-from-column-with-multiple-values-in-pandas"
   ]
  },
  {
   "cell_type": "code",
   "execution_count": null,
   "metadata": {
    "collapsed": true
   },
   "outputs": [],
   "source": [
    "Create word2vec dataframe"
   ]
  },
  {
   "cell_type": "code",
   "execution_count": null,
   "metadata": {
    "collapsed": true
   },
   "outputs": [],
   "source": [
    "Create training and validation set"
   ]
  },
  {
   "cell_type": "markdown",
   "metadata": {},
   "source": [
    "# Different methods for classification : SVM and K Nearsest Neighbors \n",
    "\n",
    "NOTE: The gridsearch objects may require parameters to reduce memory consumption"
   ]
  },
  {
   "cell_type": "code",
   "execution_count": null,
   "metadata": {
    "collapsed": true
   },
   "outputs": [],
   "source": [
    "Create SVM\n",
    "\n",
    "svc_1_hot = svm.SVC(C=1.0, kernel=’rbf’, degree=3, gamma=’auto’, coef0=0.0, shrinking=True, probability=False, tol=0.001, cache_size=200, class_weight=None, verbose=False, max_iter=-1, decision_function_shape=’ovr’, random_state=None)\n",
    "\n",
    "svc_word2vec = svm.SVC(C=1.0, kernel=’rbf’, degree=3, gamma=’auto’, coef0=0.0, shrinking=True, probability=False, tol=0.001, cache_size=200, class_weight=None, verbose=False, max_iter=-1, decision_function_shape=’ovr’, random_state=None)\n",
    "\n",
    "C_list =[]\n",
    "kernel_list =[]\n"
   ]
  },
  {
   "cell_type": "code",
   "execution_count": null,
   "metadata": {
    "collapsed": true
   },
   "outputs": [],
   "source": [
    "Train SVM using GridSearch on one-hot\n",
    "save results in list\n",
    "\n",
    "clf_svm_1 = GridSearchCV(estimator, param_grid, scoring=None, fit_params=None, n_jobs=1, iid=True, refit=True, cv=None, verbose=0, pre_dispatch=‘2*n_jobs’, error_score=’raise’, return_train_score=’warn’)\n",
    "\n"
   ]
  },
  {
   "cell_type": "code",
   "execution_count": null,
   "metadata": {
    "collapsed": true
   },
   "outputs": [],
   "source": [
    "Train SVM using Gridsearch on w2v\n",
    "save results in list\n",
    "\n",
    "clf_svm_2 = GridSearchCV(estimator, param_grid, scoring=None, fit_params=None, n_jobs=1, iid=True, refit=True, cv=None, verbose=0, pre_dispatch=‘2*n_jobs’, error_score=’raise’, return_train_score=’warn’)\n"
   ]
  },
  {
   "cell_type": "code",
   "execution_count": null,
   "metadata": {
    "collapsed": true
   },
   "outputs": [],
   "source": [
    "Create KNN\n",
    "\n",
    "knn_one_hot = neighbors.KNeighborsClassifier(n_neighbors=5, weights=’uniform’, algorithm=’auto’, leaf_size=30, p=2, metric=’minkowski’, metric_params=None, n_jobs=1, **kwargs)\\\n",
    "\n",
    "knn_word2vec = neighbors.KNeighborsClassifier(n_neighbors=5, weights=’uniform’, algorithm=’auto’, leaf_size=30, p=2, metric=’minkowski’, metric_params=None, n_jobs=1, **kwargs)\n",
    "\n",
    "neighbors_list = []\n",
    "weighting_list = []\n"
   ]
  },
  {
   "cell_type": "code",
   "execution_count": null,
   "metadata": {
    "collapsed": true
   },
   "outputs": [],
   "source": [
    "Train KNN using GridSearch on one-hot\n",
    "save results in list\n",
    "\n",
    "clf_knn_1 = GridSearchCV(estimator, param_grid, scoring=None, fit_params=None, n_jobs=1, iid=True, refit=True, cv=None, verbose=0, pre_dispatch=‘2*n_jobs’, error_score=’raise’, return_train_score=’warn’)\n"
   ]
  },
  {
   "cell_type": "code",
   "execution_count": null,
   "metadata": {
    "collapsed": true
   },
   "outputs": [],
   "source": [
    "Train KNN using Gridsearch on w2v\n",
    "save results in list\n",
    "\n",
    "clf_knn_2 = GridSearchCV(estimator, param_grid, scoring=None, fit_params=None, n_jobs=1, iid=True, refit=True, cv=None, verbose=0, pre_dispatch=‘2*n_jobs’, error_score=’raise’, return_train_score=’warn’)\n"
   ]
  },
  {
   "cell_type": "markdown",
   "metadata": {},
   "source": [
    "# Results"
   ]
  },
  {
   "cell_type": "code",
   "execution_count": null,
   "metadata": {
    "collapsed": true
   },
   "outputs": [],
   "source": [
    "PLot and present results"
   ]
  }
 ],
 "metadata": {
  "kernelspec": {
   "display_name": "Python 3",
   "language": "python",
   "name": "python3"
  },
  "language_info": {
   "codemirror_mode": {
    "name": "ipython",
    "version": 3
   },
   "file_extension": ".py",
   "mimetype": "text/x-python",
   "name": "python",
   "nbconvert_exporter": "python",
   "pygments_lexer": "ipython3",
   "version": "3.6.2"
  }
 },
 "nbformat": 4,
 "nbformat_minor": 1
}
